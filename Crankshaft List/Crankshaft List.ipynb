{
 "cells": [
  {
   "cell_type": "markdown",
   "metadata": {},
   "source": [
    "# ¿Qué vende un coche?"
   ]
  },
  {
   "cell_type": "markdown",
   "metadata": {},
   "source": [
    "La finalidad del proyecto es determinar los factores que influyen en el precio de un vehículo. Los factores más importantes a examinar son el modelo del auto, el año del modelo, la condición del vehículo, cantidad de cilindros, el tipo de combustible, el millaje, el tipo de transmisión, el tipo de vehículo, el color y los días que estuvo publicado el anuncio.\n",
    "\n",
    "Se realizó una limpieza y corrección de los datos (valores nulos y el tipo de datos). Se estudió los parámetros principales y se trataron los valores atípicos. Posteriormente, se analizaron los parámetros principales usando histogramas y diagramas de caja."
   ]
  },
  {
   "cell_type": "markdown",
   "metadata": {},
   "source": [
    "## Inicialización"
   ]
  },
  {
   "cell_type": "code",
   "execution_count": 33,
   "metadata": {},
   "outputs": [],
   "source": [
    "# Cargamos todas las librerías\n",
    "import numpy as np\n",
    "import pandas as pd\n",
    "import datetime as dt"
   ]
  },
  {
   "cell_type": "markdown",
   "metadata": {},
   "source": [
    "### Cargar datos"
   ]
  },
  {
   "cell_type": "code",
   "execution_count": 34,
   "metadata": {},
   "outputs": [
    {
     "name": "stdout",
     "output_type": "stream",
     "text": [
      "<class 'pandas.core.frame.DataFrame'>\n",
      "RangeIndex: 51525 entries, 0 to 51524\n",
      "Data columns (total 13 columns):\n",
      " #   Column        Non-Null Count  Dtype  \n",
      "---  ------        --------------  -----  \n",
      " 0   price         51525 non-null  int64  \n",
      " 1   model_year    47906 non-null  float64\n",
      " 2   model         51525 non-null  object \n",
      " 3   condition     51525 non-null  object \n",
      " 4   cylinders     46265 non-null  float64\n",
      " 5   fuel          51525 non-null  object \n",
      " 6   odometer      43633 non-null  float64\n",
      " 7   transmission  51525 non-null  object \n",
      " 8   type          51525 non-null  object \n",
      " 9   paint_color   42258 non-null  object \n",
      " 10  is_4wd        25572 non-null  float64\n",
      " 11  date_posted   51525 non-null  object \n",
      " 12  days_listed   51525 non-null  int64  \n",
      "dtypes: float64(4), int64(2), object(7)\n",
      "memory usage: 5.1+ MB\n"
     ]
    }
   ],
   "source": [
    "# Cargamos el archivo de datos en un DataFrame\n",
    "try:\n",
    "    data=pd.read_csv('/vehicles_us.csv')\n",
    "except:\n",
    "    data=pd.read_csv('/datasets/vehicles_us.csv')\n",
    "    \n",
    "data.info()"
   ]
  },
  {
   "cell_type": "markdown",
   "metadata": {},
   "source": [
    "### Explorar datos iniciales"
   ]
  },
  {
   "cell_type": "markdown",
   "metadata": {},
   "source": [
    "El dataset contiene los siguientes campos:\n",
    "- `price` — precio al que fue vendido\n",
    "- `model_year` — año del modelo del vehículo\n",
    "- `model` — modelo del vehículo\n",
    "- `condition` — estado del vehículo \n",
    "- `cylinders` — cantidad de cilindros\n",
    "- `fuel` — gasolina, diesel, etc.\n",
    "- `odometer` — el millaje del vehículo cuando el anuncio fue publicado\n",
    "- `transmission` — automático, manual, otros\n",
    "- `paint_color` — color \n",
    "- `is_4wd` — si el vehículo tiene tracción a las 4 ruedas (tipo Booleano)\n",
    "- `date_posted` — la fecha en la que el anuncio fue publicado\n",
    "- `days_listed` — desde la publicación hasta que se elimina\n"
   ]
  },
  {
   "cell_type": "code",
   "execution_count": 35,
   "metadata": {},
   "outputs": [
    {
     "data": {
      "text/html": [
       "<div>\n",
       "<style scoped>\n",
       "    .dataframe tbody tr th:only-of-type {\n",
       "        vertical-align: middle;\n",
       "    }\n",
       "\n",
       "    .dataframe tbody tr th {\n",
       "        vertical-align: top;\n",
       "    }\n",
       "\n",
       "    .dataframe thead th {\n",
       "        text-align: right;\n",
       "    }\n",
       "</style>\n",
       "<table border=\"1\" class=\"dataframe\">\n",
       "  <thead>\n",
       "    <tr style=\"text-align: right;\">\n",
       "      <th></th>\n",
       "      <th>price</th>\n",
       "      <th>model_year</th>\n",
       "      <th>cylinders</th>\n",
       "      <th>odometer</th>\n",
       "      <th>is_4wd</th>\n",
       "      <th>days_listed</th>\n",
       "    </tr>\n",
       "  </thead>\n",
       "  <tbody>\n",
       "    <tr>\n",
       "      <th>count</th>\n",
       "      <td>51525.000000</td>\n",
       "      <td>47906.000000</td>\n",
       "      <td>46265.000000</td>\n",
       "      <td>43633.000000</td>\n",
       "      <td>25572.0</td>\n",
       "      <td>51525.00000</td>\n",
       "    </tr>\n",
       "    <tr>\n",
       "      <th>mean</th>\n",
       "      <td>12132.464920</td>\n",
       "      <td>2009.750470</td>\n",
       "      <td>6.125235</td>\n",
       "      <td>115553.461738</td>\n",
       "      <td>1.0</td>\n",
       "      <td>39.55476</td>\n",
       "    </tr>\n",
       "    <tr>\n",
       "      <th>std</th>\n",
       "      <td>10040.803015</td>\n",
       "      <td>6.282065</td>\n",
       "      <td>1.660360</td>\n",
       "      <td>65094.611341</td>\n",
       "      <td>0.0</td>\n",
       "      <td>28.20427</td>\n",
       "    </tr>\n",
       "    <tr>\n",
       "      <th>min</th>\n",
       "      <td>1.000000</td>\n",
       "      <td>1908.000000</td>\n",
       "      <td>3.000000</td>\n",
       "      <td>0.000000</td>\n",
       "      <td>1.0</td>\n",
       "      <td>0.00000</td>\n",
       "    </tr>\n",
       "    <tr>\n",
       "      <th>25%</th>\n",
       "      <td>5000.000000</td>\n",
       "      <td>2006.000000</td>\n",
       "      <td>4.000000</td>\n",
       "      <td>70000.000000</td>\n",
       "      <td>1.0</td>\n",
       "      <td>19.00000</td>\n",
       "    </tr>\n",
       "    <tr>\n",
       "      <th>50%</th>\n",
       "      <td>9000.000000</td>\n",
       "      <td>2011.000000</td>\n",
       "      <td>6.000000</td>\n",
       "      <td>113000.000000</td>\n",
       "      <td>1.0</td>\n",
       "      <td>33.00000</td>\n",
       "    </tr>\n",
       "    <tr>\n",
       "      <th>75%</th>\n",
       "      <td>16839.000000</td>\n",
       "      <td>2014.000000</td>\n",
       "      <td>8.000000</td>\n",
       "      <td>155000.000000</td>\n",
       "      <td>1.0</td>\n",
       "      <td>53.00000</td>\n",
       "    </tr>\n",
       "    <tr>\n",
       "      <th>max</th>\n",
       "      <td>375000.000000</td>\n",
       "      <td>2019.000000</td>\n",
       "      <td>12.000000</td>\n",
       "      <td>990000.000000</td>\n",
       "      <td>1.0</td>\n",
       "      <td>271.00000</td>\n",
       "    </tr>\n",
       "  </tbody>\n",
       "</table>\n",
       "</div>"
      ],
      "text/plain": [
       "               price    model_year     cylinders       odometer   is_4wd  \\\n",
       "count   51525.000000  47906.000000  46265.000000   43633.000000  25572.0   \n",
       "mean    12132.464920   2009.750470      6.125235  115553.461738      1.0   \n",
       "std     10040.803015      6.282065      1.660360   65094.611341      0.0   \n",
       "min         1.000000   1908.000000      3.000000       0.000000      1.0   \n",
       "25%      5000.000000   2006.000000      4.000000   70000.000000      1.0   \n",
       "50%      9000.000000   2011.000000      6.000000  113000.000000      1.0   \n",
       "75%     16839.000000   2014.000000      8.000000  155000.000000      1.0   \n",
       "max    375000.000000   2019.000000     12.000000  990000.000000      1.0   \n",
       "\n",
       "       days_listed  \n",
       "count  51525.00000  \n",
       "mean      39.55476  \n",
       "std       28.20427  \n",
       "min        0.00000  \n",
       "25%       19.00000  \n",
       "50%       33.00000  \n",
       "75%       53.00000  \n",
       "max      271.00000  "
      ]
     },
     "execution_count": 35,
     "metadata": {},
     "output_type": "execute_result"
    }
   ],
   "source": [
    "# imprimimos la información general/resumida sobre el DataFrame\n",
    "data.describe()\n"
   ]
  },
  {
   "cell_type": "code",
   "execution_count": 36,
   "metadata": {},
   "outputs": [
    {
     "data": {
      "text/html": [
       "<div>\n",
       "<style scoped>\n",
       "    .dataframe tbody tr th:only-of-type {\n",
       "        vertical-align: middle;\n",
       "    }\n",
       "\n",
       "    .dataframe tbody tr th {\n",
       "        vertical-align: top;\n",
       "    }\n",
       "\n",
       "    .dataframe thead th {\n",
       "        text-align: right;\n",
       "    }\n",
       "</style>\n",
       "<table border=\"1\" class=\"dataframe\">\n",
       "  <thead>\n",
       "    <tr style=\"text-align: right;\">\n",
       "      <th></th>\n",
       "      <th>price</th>\n",
       "      <th>model_year</th>\n",
       "      <th>model</th>\n",
       "      <th>condition</th>\n",
       "      <th>cylinders</th>\n",
       "      <th>fuel</th>\n",
       "      <th>odometer</th>\n",
       "      <th>transmission</th>\n",
       "      <th>type</th>\n",
       "      <th>paint_color</th>\n",
       "      <th>is_4wd</th>\n",
       "      <th>date_posted</th>\n",
       "      <th>days_listed</th>\n",
       "    </tr>\n",
       "  </thead>\n",
       "  <tbody>\n",
       "    <tr>\n",
       "      <th>0</th>\n",
       "      <td>9400</td>\n",
       "      <td>2011.0</td>\n",
       "      <td>bmw x5</td>\n",
       "      <td>good</td>\n",
       "      <td>6.0</td>\n",
       "      <td>gas</td>\n",
       "      <td>145000.0</td>\n",
       "      <td>automatic</td>\n",
       "      <td>SUV</td>\n",
       "      <td>NaN</td>\n",
       "      <td>1.0</td>\n",
       "      <td>2018-06-23</td>\n",
       "      <td>19</td>\n",
       "    </tr>\n",
       "    <tr>\n",
       "      <th>1</th>\n",
       "      <td>25500</td>\n",
       "      <td>NaN</td>\n",
       "      <td>ford f-150</td>\n",
       "      <td>good</td>\n",
       "      <td>6.0</td>\n",
       "      <td>gas</td>\n",
       "      <td>88705.0</td>\n",
       "      <td>automatic</td>\n",
       "      <td>pickup</td>\n",
       "      <td>white</td>\n",
       "      <td>1.0</td>\n",
       "      <td>2018-10-19</td>\n",
       "      <td>50</td>\n",
       "    </tr>\n",
       "    <tr>\n",
       "      <th>2</th>\n",
       "      <td>5500</td>\n",
       "      <td>2013.0</td>\n",
       "      <td>hyundai sonata</td>\n",
       "      <td>like new</td>\n",
       "      <td>4.0</td>\n",
       "      <td>gas</td>\n",
       "      <td>110000.0</td>\n",
       "      <td>automatic</td>\n",
       "      <td>sedan</td>\n",
       "      <td>red</td>\n",
       "      <td>NaN</td>\n",
       "      <td>2019-02-07</td>\n",
       "      <td>79</td>\n",
       "    </tr>\n",
       "    <tr>\n",
       "      <th>3</th>\n",
       "      <td>1500</td>\n",
       "      <td>2003.0</td>\n",
       "      <td>ford f-150</td>\n",
       "      <td>fair</td>\n",
       "      <td>8.0</td>\n",
       "      <td>gas</td>\n",
       "      <td>NaN</td>\n",
       "      <td>automatic</td>\n",
       "      <td>pickup</td>\n",
       "      <td>NaN</td>\n",
       "      <td>NaN</td>\n",
       "      <td>2019-03-22</td>\n",
       "      <td>9</td>\n",
       "    </tr>\n",
       "    <tr>\n",
       "      <th>4</th>\n",
       "      <td>14900</td>\n",
       "      <td>2017.0</td>\n",
       "      <td>chrysler 200</td>\n",
       "      <td>excellent</td>\n",
       "      <td>4.0</td>\n",
       "      <td>gas</td>\n",
       "      <td>80903.0</td>\n",
       "      <td>automatic</td>\n",
       "      <td>sedan</td>\n",
       "      <td>black</td>\n",
       "      <td>NaN</td>\n",
       "      <td>2019-04-02</td>\n",
       "      <td>28</td>\n",
       "    </tr>\n",
       "  </tbody>\n",
       "</table>\n",
       "</div>"
      ],
      "text/plain": [
       "   price  model_year           model  condition  cylinders fuel  odometer  \\\n",
       "0   9400      2011.0          bmw x5       good        6.0  gas  145000.0   \n",
       "1  25500         NaN      ford f-150       good        6.0  gas   88705.0   \n",
       "2   5500      2013.0  hyundai sonata   like new        4.0  gas  110000.0   \n",
       "3   1500      2003.0      ford f-150       fair        8.0  gas       NaN   \n",
       "4  14900      2017.0    chrysler 200  excellent        4.0  gas   80903.0   \n",
       "\n",
       "  transmission    type paint_color  is_4wd date_posted  days_listed  \n",
       "0    automatic     SUV         NaN     1.0  2018-06-23           19  \n",
       "1    automatic  pickup       white     1.0  2018-10-19           50  \n",
       "2    automatic   sedan         red     NaN  2019-02-07           79  \n",
       "3    automatic  pickup         NaN     NaN  2019-03-22            9  \n",
       "4    automatic   sedan       black     NaN  2019-04-02           28  "
      ]
     },
     "execution_count": 36,
     "metadata": {},
     "output_type": "execute_result"
    }
   ],
   "source": [
    "# imprimimos una muestra de datos\n",
    "data.head(5)\n"
   ]
  },
  {
   "cell_type": "markdown",
   "metadata": {},
   "source": [
    "La columna 'condition' posee valores string que se pueden categorizar. Es necesario revisar si hay valores ausentes y correlación entre valores ausentes de distintas columnas."
   ]
  },
  {
   "cell_type": "code",
   "execution_count": 37,
   "metadata": {},
   "outputs": [
    {
     "data": {
      "text/html": [
       "<div>\n",
       "<style scoped>\n",
       "    .dataframe tbody tr th:only-of-type {\n",
       "        vertical-align: middle;\n",
       "    }\n",
       "\n",
       "    .dataframe tbody tr th {\n",
       "        vertical-align: top;\n",
       "    }\n",
       "\n",
       "    .dataframe thead th {\n",
       "        text-align: right;\n",
       "    }\n",
       "</style>\n",
       "<table border=\"1\" class=\"dataframe\">\n",
       "  <thead>\n",
       "    <tr style=\"text-align: right;\">\n",
       "      <th></th>\n",
       "      <th>price</th>\n",
       "      <th>model_year</th>\n",
       "      <th>model</th>\n",
       "      <th>condition</th>\n",
       "      <th>cylinders</th>\n",
       "      <th>fuel</th>\n",
       "      <th>odometer</th>\n",
       "      <th>transmission</th>\n",
       "      <th>type</th>\n",
       "      <th>paint_color</th>\n",
       "      <th>is_4wd</th>\n",
       "      <th>date_posted</th>\n",
       "      <th>days_listed</th>\n",
       "    </tr>\n",
       "  </thead>\n",
       "  <tbody>\n",
       "    <tr>\n",
       "      <th>1</th>\n",
       "      <td>25500</td>\n",
       "      <td>NaN</td>\n",
       "      <td>ford f-150</td>\n",
       "      <td>good</td>\n",
       "      <td>6.0</td>\n",
       "      <td>gas</td>\n",
       "      <td>88705.0</td>\n",
       "      <td>automatic</td>\n",
       "      <td>pickup</td>\n",
       "      <td>white</td>\n",
       "      <td>1.0</td>\n",
       "      <td>2018-10-19</td>\n",
       "      <td>50</td>\n",
       "    </tr>\n",
       "    <tr>\n",
       "      <th>20</th>\n",
       "      <td>6990</td>\n",
       "      <td>NaN</td>\n",
       "      <td>chevrolet tahoe</td>\n",
       "      <td>excellent</td>\n",
       "      <td>8.0</td>\n",
       "      <td>gas</td>\n",
       "      <td>147485.0</td>\n",
       "      <td>automatic</td>\n",
       "      <td>SUV</td>\n",
       "      <td>silver</td>\n",
       "      <td>1.0</td>\n",
       "      <td>2018-08-05</td>\n",
       "      <td>28</td>\n",
       "    </tr>\n",
       "    <tr>\n",
       "      <th>65</th>\n",
       "      <td>12800</td>\n",
       "      <td>NaN</td>\n",
       "      <td>ford f-150</td>\n",
       "      <td>excellent</td>\n",
       "      <td>6.0</td>\n",
       "      <td>gas</td>\n",
       "      <td>108500.0</td>\n",
       "      <td>automatic</td>\n",
       "      <td>pickup</td>\n",
       "      <td>white</td>\n",
       "      <td>NaN</td>\n",
       "      <td>2018-09-23</td>\n",
       "      <td>15</td>\n",
       "    </tr>\n",
       "    <tr>\n",
       "      <th>69</th>\n",
       "      <td>7800</td>\n",
       "      <td>NaN</td>\n",
       "      <td>ford f-150</td>\n",
       "      <td>like new</td>\n",
       "      <td>8.0</td>\n",
       "      <td>gas</td>\n",
       "      <td>97510.0</td>\n",
       "      <td>automatic</td>\n",
       "      <td>truck</td>\n",
       "      <td>white</td>\n",
       "      <td>1.0</td>\n",
       "      <td>2019-02-20</td>\n",
       "      <td>39</td>\n",
       "    </tr>\n",
       "    <tr>\n",
       "      <th>72</th>\n",
       "      <td>3650</td>\n",
       "      <td>NaN</td>\n",
       "      <td>subaru impreza</td>\n",
       "      <td>excellent</td>\n",
       "      <td>NaN</td>\n",
       "      <td>gas</td>\n",
       "      <td>74000.0</td>\n",
       "      <td>automatic</td>\n",
       "      <td>sedan</td>\n",
       "      <td>blue</td>\n",
       "      <td>1.0</td>\n",
       "      <td>2018-08-07</td>\n",
       "      <td>60</td>\n",
       "    </tr>\n",
       "    <tr>\n",
       "      <th>...</th>\n",
       "      <td>...</td>\n",
       "      <td>...</td>\n",
       "      <td>...</td>\n",
       "      <td>...</td>\n",
       "      <td>...</td>\n",
       "      <td>...</td>\n",
       "      <td>...</td>\n",
       "      <td>...</td>\n",
       "      <td>...</td>\n",
       "      <td>...</td>\n",
       "      <td>...</td>\n",
       "      <td>...</td>\n",
       "      <td>...</td>\n",
       "    </tr>\n",
       "    <tr>\n",
       "      <th>51464</th>\n",
       "      <td>8890</td>\n",
       "      <td>NaN</td>\n",
       "      <td>ford f250 super duty</td>\n",
       "      <td>good</td>\n",
       "      <td>8.0</td>\n",
       "      <td>gas</td>\n",
       "      <td>135778.0</td>\n",
       "      <td>automatic</td>\n",
       "      <td>truck</td>\n",
       "      <td>red</td>\n",
       "      <td>1.0</td>\n",
       "      <td>2018-11-28</td>\n",
       "      <td>24</td>\n",
       "    </tr>\n",
       "    <tr>\n",
       "      <th>51465</th>\n",
       "      <td>34595</td>\n",
       "      <td>NaN</td>\n",
       "      <td>gmc yukon</td>\n",
       "      <td>excellent</td>\n",
       "      <td>8.0</td>\n",
       "      <td>gas</td>\n",
       "      <td>86456.0</td>\n",
       "      <td>automatic</td>\n",
       "      <td>SUV</td>\n",
       "      <td>silver</td>\n",
       "      <td>1.0</td>\n",
       "      <td>2019-04-18</td>\n",
       "      <td>13</td>\n",
       "    </tr>\n",
       "    <tr>\n",
       "      <th>51487</th>\n",
       "      <td>1495</td>\n",
       "      <td>NaN</td>\n",
       "      <td>ford f-150</td>\n",
       "      <td>fair</td>\n",
       "      <td>6.0</td>\n",
       "      <td>gas</td>\n",
       "      <td>15804.0</td>\n",
       "      <td>manual</td>\n",
       "      <td>truck</td>\n",
       "      <td>white</td>\n",
       "      <td>1.0</td>\n",
       "      <td>2018-09-18</td>\n",
       "      <td>56</td>\n",
       "    </tr>\n",
       "    <tr>\n",
       "      <th>51488</th>\n",
       "      <td>21900</td>\n",
       "      <td>NaN</td>\n",
       "      <td>chevrolet silverado 3500hd</td>\n",
       "      <td>excellent</td>\n",
       "      <td>8.0</td>\n",
       "      <td>diesel</td>\n",
       "      <td>203000.0</td>\n",
       "      <td>automatic</td>\n",
       "      <td>truck</td>\n",
       "      <td>white</td>\n",
       "      <td>1.0</td>\n",
       "      <td>2018-12-27</td>\n",
       "      <td>37</td>\n",
       "    </tr>\n",
       "    <tr>\n",
       "      <th>51508</th>\n",
       "      <td>4950</td>\n",
       "      <td>NaN</td>\n",
       "      <td>chrysler town &amp; country</td>\n",
       "      <td>excellent</td>\n",
       "      <td>6.0</td>\n",
       "      <td>gas</td>\n",
       "      <td>150000.0</td>\n",
       "      <td>automatic</td>\n",
       "      <td>mini-van</td>\n",
       "      <td>silver</td>\n",
       "      <td>NaN</td>\n",
       "      <td>2018-06-30</td>\n",
       "      <td>48</td>\n",
       "    </tr>\n",
       "  </tbody>\n",
       "</table>\n",
       "<p>3619 rows × 13 columns</p>\n",
       "</div>"
      ],
      "text/plain": [
       "       price  model_year                       model  condition  cylinders  \\\n",
       "1      25500         NaN                  ford f-150       good        6.0   \n",
       "20      6990         NaN             chevrolet tahoe  excellent        8.0   \n",
       "65     12800         NaN                  ford f-150  excellent        6.0   \n",
       "69      7800         NaN                  ford f-150   like new        8.0   \n",
       "72      3650         NaN              subaru impreza  excellent        NaN   \n",
       "...      ...         ...                         ...        ...        ...   \n",
       "51464   8890         NaN        ford f250 super duty       good        8.0   \n",
       "51465  34595         NaN                   gmc yukon  excellent        8.0   \n",
       "51487   1495         NaN                  ford f-150       fair        6.0   \n",
       "51488  21900         NaN  chevrolet silverado 3500hd  excellent        8.0   \n",
       "51508   4950         NaN     chrysler town & country  excellent        6.0   \n",
       "\n",
       "         fuel  odometer transmission      type paint_color  is_4wd  \\\n",
       "1         gas   88705.0    automatic    pickup       white     1.0   \n",
       "20        gas  147485.0    automatic       SUV      silver     1.0   \n",
       "65        gas  108500.0    automatic    pickup       white     NaN   \n",
       "69        gas   97510.0    automatic     truck       white     1.0   \n",
       "72        gas   74000.0    automatic     sedan        blue     1.0   \n",
       "...       ...       ...          ...       ...         ...     ...   \n",
       "51464     gas  135778.0    automatic     truck         red     1.0   \n",
       "51465     gas   86456.0    automatic       SUV      silver     1.0   \n",
       "51487     gas   15804.0       manual     truck       white     1.0   \n",
       "51488  diesel  203000.0    automatic     truck       white     1.0   \n",
       "51508     gas  150000.0    automatic  mini-van      silver     NaN   \n",
       "\n",
       "      date_posted  days_listed  \n",
       "1      2018-10-19           50  \n",
       "20     2018-08-05           28  \n",
       "65     2018-09-23           15  \n",
       "69     2019-02-20           39  \n",
       "72     2018-08-07           60  \n",
       "...           ...          ...  \n",
       "51464  2018-11-28           24  \n",
       "51465  2019-04-18           13  \n",
       "51487  2018-09-18           56  \n",
       "51488  2018-12-27           37  \n",
       "51508  2018-06-30           48  \n",
       "\n",
       "[3619 rows x 13 columns]"
      ]
     },
     "execution_count": 37,
     "metadata": {},
     "output_type": "execute_result"
    }
   ],
   "source": [
    "data[data['model_year'].isna()]"
   ]
  },
  {
   "cell_type": "markdown",
   "metadata": {},
   "source": [
    " La columna 'condition' será cambiada a datos enteros, categorizándolos del 0 al 5, siendo 0:'salvage' y 5:'new'. El tipo de datos de la columna 'date_posted' será cambiada a tipo fecha.  "
   ]
  },
  {
   "cell_type": "code",
   "execution_count": 38,
   "metadata": {},
   "outputs": [
    {
     "data": {
      "text/plain": [
       "array(['good', 'like new', 'fair', 'excellent', 'salvage', 'new'],\n",
       "      dtype=object)"
      ]
     },
     "execution_count": 38,
     "metadata": {},
     "output_type": "execute_result"
    }
   ],
   "source": [
    "data['condition'].unique()"
   ]
  },
  {
   "cell_type": "markdown",
   "metadata": {},
   "source": [
    "En la tabla mostrada, se aprecian valores ausentes en parámetros importantes como 'model_year', 'odometer', 'cylinders', 'paint_color' y 'is_4wd'. Los valores ausentes en 'is_4wd' significan que el vehículo no posee tracción a las 4 ruedas, por lo que será imputado por 0. En el resto de columnas, los valores ausentes serán reemplazados por la mediana de dicha columna de acuerdo al modelo del auto."
   ]
  },
  {
   "cell_type": "code",
   "execution_count": 39,
   "metadata": {},
   "outputs": [
    {
     "name": "stdout",
     "output_type": "stream",
     "text": [
      "<class 'pandas.core.frame.DataFrame'>\n",
      "RangeIndex: 51525 entries, 0 to 51524\n",
      "Data columns (total 13 columns):\n",
      " #   Column        Non-Null Count  Dtype  \n",
      "---  ------        --------------  -----  \n",
      " 0   price         51525 non-null  int64  \n",
      " 1   model_year    47906 non-null  float64\n",
      " 2   model         51525 non-null  object \n",
      " 3   condition     51525 non-null  object \n",
      " 4   cylinders     46265 non-null  float64\n",
      " 5   fuel          51525 non-null  object \n",
      " 6   odometer      43633 non-null  float64\n",
      " 7   transmission  51525 non-null  object \n",
      " 8   type          51525 non-null  object \n",
      " 9   paint_color   42258 non-null  object \n",
      " 10  is_4wd        25572 non-null  float64\n",
      " 11  date_posted   51525 non-null  object \n",
      " 12  days_listed   51525 non-null  int64  \n",
      "dtypes: float64(4), int64(2), object(7)\n",
      "memory usage: 5.1+ MB\n"
     ]
    }
   ],
   "source": [
    "data.info()"
   ]
  },
  {
   "cell_type": "markdown",
   "metadata": {},
   "source": [
    "### Conclusiones y siguientes pasos\n",
    "\n",
    "El número de filas en la tabla filtrada, que muestra las filas de valores ausentes en la columna 'model_year' nos indica que no hay una relación con los avalores ausentes de las distintas columnas."
   ]
  },
  {
   "cell_type": "code",
   "execution_count": 40,
   "metadata": {},
   "outputs": [
    {
     "data": {
      "text/plain": [
       "7.023774866569626"
      ]
     },
     "execution_count": 40,
     "metadata": {},
     "output_type": "execute_result"
    }
   ],
   "source": [
    "#Porcentaje de valores ausentes\n",
    "data['model_year'].isna().sum()*100/len(data['model_year'])"
   ]
  },
  {
   "cell_type": "markdown",
   "metadata": {},
   "source": [
    "El porcentaje de los valores ausentes en 'model_year' en comparación con el conjuto de datos completos es de 7.02 %, por lo que sería necesario completar tales valores. Los valores ausentes en las columnas 'model_year', 'cylinders' y 'odometer' serán reemplazados por la mediana de dicha columna de acuerdo al modelo del auto."
   ]
  },
  {
   "cell_type": "markdown",
   "metadata": {},
   "source": [
    "## Valores ausentes"
   ]
  },
  {
   "cell_type": "code",
   "execution_count": 41,
   "metadata": {},
   "outputs": [
    {
     "data": {
      "text/plain": [
       "0         True\n",
       "1         True\n",
       "2        False\n",
       "3        False\n",
       "4        False\n",
       "         ...  \n",
       "51520    False\n",
       "51521    False\n",
       "51522    False\n",
       "51523    False\n",
       "51524    False\n",
       "Name: is_4wd, Length: 51525, dtype: bool"
      ]
     },
     "execution_count": 41,
     "metadata": {},
     "output_type": "execute_result"
    }
   ],
   "source": [
    "data['is_4wd']=data['is_4wd']==1\n",
    "data['is_4wd']\n"
   ]
  },
  {
   "cell_type": "code",
   "execution_count": 42,
   "metadata": {},
   "outputs": [
    {
     "data": {
      "text/html": [
       "<div>\n",
       "<style scoped>\n",
       "    .dataframe tbody tr th:only-of-type {\n",
       "        vertical-align: middle;\n",
       "    }\n",
       "\n",
       "    .dataframe tbody tr th {\n",
       "        vertical-align: top;\n",
       "    }\n",
       "\n",
       "    .dataframe thead th {\n",
       "        text-align: right;\n",
       "    }\n",
       "</style>\n",
       "<table border=\"1\" class=\"dataframe\">\n",
       "  <thead>\n",
       "    <tr style=\"text-align: right;\">\n",
       "      <th></th>\n",
       "      <th>price</th>\n",
       "      <th>model_year</th>\n",
       "      <th>model</th>\n",
       "      <th>condition</th>\n",
       "      <th>cylinders</th>\n",
       "      <th>fuel</th>\n",
       "      <th>odometer</th>\n",
       "      <th>transmission</th>\n",
       "      <th>type</th>\n",
       "      <th>paint_color</th>\n",
       "      <th>is_4wd</th>\n",
       "      <th>date_posted</th>\n",
       "      <th>days_listed</th>\n",
       "    </tr>\n",
       "  </thead>\n",
       "  <tbody>\n",
       "    <tr>\n",
       "      <th>0</th>\n",
       "      <td>9400</td>\n",
       "      <td>2011.0</td>\n",
       "      <td>bmw x5</td>\n",
       "      <td>good</td>\n",
       "      <td>6.0</td>\n",
       "      <td>gas</td>\n",
       "      <td>145000.0</td>\n",
       "      <td>automatic</td>\n",
       "      <td>SUV</td>\n",
       "      <td>NaN</td>\n",
       "      <td>True</td>\n",
       "      <td>2018-06-23</td>\n",
       "      <td>19</td>\n",
       "    </tr>\n",
       "    <tr>\n",
       "      <th>1</th>\n",
       "      <td>25500</td>\n",
       "      <td>NaN</td>\n",
       "      <td>ford f-150</td>\n",
       "      <td>good</td>\n",
       "      <td>6.0</td>\n",
       "      <td>gas</td>\n",
       "      <td>88705.0</td>\n",
       "      <td>automatic</td>\n",
       "      <td>pickup</td>\n",
       "      <td>white</td>\n",
       "      <td>True</td>\n",
       "      <td>2018-10-19</td>\n",
       "      <td>50</td>\n",
       "    </tr>\n",
       "    <tr>\n",
       "      <th>2</th>\n",
       "      <td>5500</td>\n",
       "      <td>2013.0</td>\n",
       "      <td>hyundai sonata</td>\n",
       "      <td>like new</td>\n",
       "      <td>4.0</td>\n",
       "      <td>gas</td>\n",
       "      <td>110000.0</td>\n",
       "      <td>automatic</td>\n",
       "      <td>sedan</td>\n",
       "      <td>red</td>\n",
       "      <td>False</td>\n",
       "      <td>2019-02-07</td>\n",
       "      <td>79</td>\n",
       "    </tr>\n",
       "    <tr>\n",
       "      <th>3</th>\n",
       "      <td>1500</td>\n",
       "      <td>2003.0</td>\n",
       "      <td>ford f-150</td>\n",
       "      <td>fair</td>\n",
       "      <td>8.0</td>\n",
       "      <td>gas</td>\n",
       "      <td>NaN</td>\n",
       "      <td>automatic</td>\n",
       "      <td>pickup</td>\n",
       "      <td>NaN</td>\n",
       "      <td>False</td>\n",
       "      <td>2019-03-22</td>\n",
       "      <td>9</td>\n",
       "    </tr>\n",
       "    <tr>\n",
       "      <th>4</th>\n",
       "      <td>14900</td>\n",
       "      <td>2017.0</td>\n",
       "      <td>chrysler 200</td>\n",
       "      <td>excellent</td>\n",
       "      <td>4.0</td>\n",
       "      <td>gas</td>\n",
       "      <td>80903.0</td>\n",
       "      <td>automatic</td>\n",
       "      <td>sedan</td>\n",
       "      <td>black</td>\n",
       "      <td>False</td>\n",
       "      <td>2019-04-02</td>\n",
       "      <td>28</td>\n",
       "    </tr>\n",
       "  </tbody>\n",
       "</table>\n",
       "</div>"
      ],
      "text/plain": [
       "   price  model_year           model  condition  cylinders fuel  odometer  \\\n",
       "0   9400      2011.0          bmw x5       good        6.0  gas  145000.0   \n",
       "1  25500         NaN      ford f-150       good        6.0  gas   88705.0   \n",
       "2   5500      2013.0  hyundai sonata   like new        4.0  gas  110000.0   \n",
       "3   1500      2003.0      ford f-150       fair        8.0  gas       NaN   \n",
       "4  14900      2017.0    chrysler 200  excellent        4.0  gas   80903.0   \n",
       "\n",
       "  transmission    type paint_color  is_4wd date_posted  days_listed  \n",
       "0    automatic     SUV         NaN    True  2018-06-23           19  \n",
       "1    automatic  pickup       white    True  2018-10-19           50  \n",
       "2    automatic   sedan         red   False  2019-02-07           79  \n",
       "3    automatic  pickup         NaN   False  2019-03-22            9  \n",
       "4    automatic   sedan       black   False  2019-04-02           28  "
      ]
     },
     "execution_count": 42,
     "metadata": {},
     "output_type": "execute_result"
    }
   ],
   "source": [
    "data.head(5)"
   ]
  },
  {
   "cell_type": "markdown",
   "metadata": {},
   "source": [
    "Rellenando valores nulos en 'model_year'."
   ]
  },
  {
   "cell_type": "code",
   "execution_count": 43,
   "metadata": {},
   "outputs": [],
   "source": [
    "#Se crea tabla dinámica con los valores de mediana del año del modelo según el modelo \n",
    "model_year=data.pivot_table(index='model',values='model_year',aggfunc='median')\n",
    "model_year.columns=['model_year_median']\n",
    "model_year.index.isna().sum()\n",
    "data = data.merge(model_year, on='model')"
   ]
  },
  {
   "cell_type": "code",
   "execution_count": 44,
   "metadata": {},
   "outputs": [
    {
     "data": {
      "text/html": [
       "<div>\n",
       "<style scoped>\n",
       "    .dataframe tbody tr th:only-of-type {\n",
       "        vertical-align: middle;\n",
       "    }\n",
       "\n",
       "    .dataframe tbody tr th {\n",
       "        vertical-align: top;\n",
       "    }\n",
       "\n",
       "    .dataframe thead th {\n",
       "        text-align: right;\n",
       "    }\n",
       "</style>\n",
       "<table border=\"1\" class=\"dataframe\">\n",
       "  <thead>\n",
       "    <tr style=\"text-align: right;\">\n",
       "      <th></th>\n",
       "      <th>price</th>\n",
       "      <th>model_year</th>\n",
       "      <th>model</th>\n",
       "      <th>condition</th>\n",
       "      <th>cylinders</th>\n",
       "      <th>fuel</th>\n",
       "      <th>odometer</th>\n",
       "      <th>transmission</th>\n",
       "      <th>type</th>\n",
       "      <th>paint_color</th>\n",
       "      <th>is_4wd</th>\n",
       "      <th>date_posted</th>\n",
       "      <th>days_listed</th>\n",
       "      <th>model_year_median</th>\n",
       "    </tr>\n",
       "  </thead>\n",
       "  <tbody>\n",
       "    <tr>\n",
       "      <th>0</th>\n",
       "      <td>9400</td>\n",
       "      <td>2011.0</td>\n",
       "      <td>bmw x5</td>\n",
       "      <td>good</td>\n",
       "      <td>6.0</td>\n",
       "      <td>gas</td>\n",
       "      <td>145000.0</td>\n",
       "      <td>automatic</td>\n",
       "      <td>SUV</td>\n",
       "      <td>NaN</td>\n",
       "      <td>True</td>\n",
       "      <td>2018-06-23</td>\n",
       "      <td>19</td>\n",
       "      <td>2010.0</td>\n",
       "    </tr>\n",
       "    <tr>\n",
       "      <th>1</th>\n",
       "      <td>3200</td>\n",
       "      <td>2004.0</td>\n",
       "      <td>bmw x5</td>\n",
       "      <td>excellent</td>\n",
       "      <td>6.0</td>\n",
       "      <td>gas</td>\n",
       "      <td>NaN</td>\n",
       "      <td>automatic</td>\n",
       "      <td>SUV</td>\n",
       "      <td>black</td>\n",
       "      <td>True</td>\n",
       "      <td>2019-04-09</td>\n",
       "      <td>10</td>\n",
       "      <td>2010.0</td>\n",
       "    </tr>\n",
       "    <tr>\n",
       "      <th>2</th>\n",
       "      <td>8499</td>\n",
       "      <td>2009.0</td>\n",
       "      <td>bmw x5</td>\n",
       "      <td>good</td>\n",
       "      <td>NaN</td>\n",
       "      <td>gas</td>\n",
       "      <td>104482.0</td>\n",
       "      <td>automatic</td>\n",
       "      <td>SUV</td>\n",
       "      <td>blue</td>\n",
       "      <td>True</td>\n",
       "      <td>2019-03-04</td>\n",
       "      <td>52</td>\n",
       "      <td>2010.0</td>\n",
       "    </tr>\n",
       "    <tr>\n",
       "      <th>3</th>\n",
       "      <td>22914</td>\n",
       "      <td>2015.0</td>\n",
       "      <td>bmw x5</td>\n",
       "      <td>excellent</td>\n",
       "      <td>6.0</td>\n",
       "      <td>gas</td>\n",
       "      <td>69686.0</td>\n",
       "      <td>automatic</td>\n",
       "      <td>SUV</td>\n",
       "      <td>white</td>\n",
       "      <td>True</td>\n",
       "      <td>2018-08-11</td>\n",
       "      <td>19</td>\n",
       "      <td>2010.0</td>\n",
       "    </tr>\n",
       "    <tr>\n",
       "      <th>4</th>\n",
       "      <td>22914</td>\n",
       "      <td>2015.0</td>\n",
       "      <td>bmw x5</td>\n",
       "      <td>excellent</td>\n",
       "      <td>6.0</td>\n",
       "      <td>gas</td>\n",
       "      <td>69686.0</td>\n",
       "      <td>automatic</td>\n",
       "      <td>SUV</td>\n",
       "      <td>white</td>\n",
       "      <td>True</td>\n",
       "      <td>2018-07-07</td>\n",
       "      <td>9</td>\n",
       "      <td>2010.0</td>\n",
       "    </tr>\n",
       "  </tbody>\n",
       "</table>\n",
       "</div>"
      ],
      "text/plain": [
       "   price  model_year   model  condition  cylinders fuel  odometer  \\\n",
       "0   9400      2011.0  bmw x5       good        6.0  gas  145000.0   \n",
       "1   3200      2004.0  bmw x5  excellent        6.0  gas       NaN   \n",
       "2   8499      2009.0  bmw x5       good        NaN  gas  104482.0   \n",
       "3  22914      2015.0  bmw x5  excellent        6.0  gas   69686.0   \n",
       "4  22914      2015.0  bmw x5  excellent        6.0  gas   69686.0   \n",
       "\n",
       "  transmission type paint_color  is_4wd date_posted  days_listed  \\\n",
       "0    automatic  SUV         NaN    True  2018-06-23           19   \n",
       "1    automatic  SUV       black    True  2019-04-09           10   \n",
       "2    automatic  SUV        blue    True  2019-03-04           52   \n",
       "3    automatic  SUV       white    True  2018-08-11           19   \n",
       "4    automatic  SUV       white    True  2018-07-07            9   \n",
       "\n",
       "   model_year_median  \n",
       "0             2010.0  \n",
       "1             2010.0  \n",
       "2             2010.0  \n",
       "3             2010.0  \n",
       "4             2010.0  "
      ]
     },
     "execution_count": 44,
     "metadata": {},
     "output_type": "execute_result"
    }
   ],
   "source": [
    "data['model_year']=data['model_year'].where(~data['model_year'].isna(),data['model_year_median'])\n",
    "data.head(5)"
   ]
  },
  {
   "cell_type": "code",
   "execution_count": 45,
   "metadata": {},
   "outputs": [
    {
     "data": {
      "text/plain": [
       "0"
      ]
     },
     "execution_count": 45,
     "metadata": {},
     "output_type": "execute_result"
    }
   ],
   "source": [
    "data['model_year'].isna().sum()"
   ]
  },
  {
   "cell_type": "code",
   "execution_count": 46,
   "metadata": {},
   "outputs": [
    {
     "data": {
      "text/html": [
       "<div>\n",
       "<style scoped>\n",
       "    .dataframe tbody tr th:only-of-type {\n",
       "        vertical-align: middle;\n",
       "    }\n",
       "\n",
       "    .dataframe tbody tr th {\n",
       "        vertical-align: top;\n",
       "    }\n",
       "\n",
       "    .dataframe thead th {\n",
       "        text-align: right;\n",
       "    }\n",
       "</style>\n",
       "<table border=\"1\" class=\"dataframe\">\n",
       "  <thead>\n",
       "    <tr style=\"text-align: right;\">\n",
       "      <th></th>\n",
       "      <th>price</th>\n",
       "      <th>model_year</th>\n",
       "      <th>model</th>\n",
       "      <th>condition</th>\n",
       "      <th>cylinders</th>\n",
       "      <th>fuel</th>\n",
       "      <th>odometer</th>\n",
       "      <th>transmission</th>\n",
       "      <th>type</th>\n",
       "      <th>paint_color</th>\n",
       "      <th>is_4wd</th>\n",
       "      <th>date_posted</th>\n",
       "      <th>days_listed</th>\n",
       "    </tr>\n",
       "  </thead>\n",
       "  <tbody>\n",
       "    <tr>\n",
       "      <th>0</th>\n",
       "      <td>9400</td>\n",
       "      <td>2011.0</td>\n",
       "      <td>bmw x5</td>\n",
       "      <td>good</td>\n",
       "      <td>6.0</td>\n",
       "      <td>gas</td>\n",
       "      <td>145000.0</td>\n",
       "      <td>automatic</td>\n",
       "      <td>SUV</td>\n",
       "      <td>NaN</td>\n",
       "      <td>True</td>\n",
       "      <td>2018-06-23</td>\n",
       "      <td>19</td>\n",
       "    </tr>\n",
       "    <tr>\n",
       "      <th>1</th>\n",
       "      <td>3200</td>\n",
       "      <td>2004.0</td>\n",
       "      <td>bmw x5</td>\n",
       "      <td>excellent</td>\n",
       "      <td>6.0</td>\n",
       "      <td>gas</td>\n",
       "      <td>NaN</td>\n",
       "      <td>automatic</td>\n",
       "      <td>SUV</td>\n",
       "      <td>black</td>\n",
       "      <td>True</td>\n",
       "      <td>2019-04-09</td>\n",
       "      <td>10</td>\n",
       "    </tr>\n",
       "    <tr>\n",
       "      <th>2</th>\n",
       "      <td>8499</td>\n",
       "      <td>2009.0</td>\n",
       "      <td>bmw x5</td>\n",
       "      <td>good</td>\n",
       "      <td>NaN</td>\n",
       "      <td>gas</td>\n",
       "      <td>104482.0</td>\n",
       "      <td>automatic</td>\n",
       "      <td>SUV</td>\n",
       "      <td>blue</td>\n",
       "      <td>True</td>\n",
       "      <td>2019-03-04</td>\n",
       "      <td>52</td>\n",
       "    </tr>\n",
       "    <tr>\n",
       "      <th>3</th>\n",
       "      <td>22914</td>\n",
       "      <td>2015.0</td>\n",
       "      <td>bmw x5</td>\n",
       "      <td>excellent</td>\n",
       "      <td>6.0</td>\n",
       "      <td>gas</td>\n",
       "      <td>69686.0</td>\n",
       "      <td>automatic</td>\n",
       "      <td>SUV</td>\n",
       "      <td>white</td>\n",
       "      <td>True</td>\n",
       "      <td>2018-08-11</td>\n",
       "      <td>19</td>\n",
       "    </tr>\n",
       "    <tr>\n",
       "      <th>4</th>\n",
       "      <td>22914</td>\n",
       "      <td>2015.0</td>\n",
       "      <td>bmw x5</td>\n",
       "      <td>excellent</td>\n",
       "      <td>6.0</td>\n",
       "      <td>gas</td>\n",
       "      <td>69686.0</td>\n",
       "      <td>automatic</td>\n",
       "      <td>SUV</td>\n",
       "      <td>white</td>\n",
       "      <td>True</td>\n",
       "      <td>2018-07-07</td>\n",
       "      <td>9</td>\n",
       "    </tr>\n",
       "  </tbody>\n",
       "</table>\n",
       "</div>"
      ],
      "text/plain": [
       "   price  model_year   model  condition  cylinders fuel  odometer  \\\n",
       "0   9400      2011.0  bmw x5       good        6.0  gas  145000.0   \n",
       "1   3200      2004.0  bmw x5  excellent        6.0  gas       NaN   \n",
       "2   8499      2009.0  bmw x5       good        NaN  gas  104482.0   \n",
       "3  22914      2015.0  bmw x5  excellent        6.0  gas   69686.0   \n",
       "4  22914      2015.0  bmw x5  excellent        6.0  gas   69686.0   \n",
       "\n",
       "  transmission type paint_color  is_4wd date_posted  days_listed  \n",
       "0    automatic  SUV         NaN    True  2018-06-23           19  \n",
       "1    automatic  SUV       black    True  2019-04-09           10  \n",
       "2    automatic  SUV        blue    True  2019-03-04           52  \n",
       "3    automatic  SUV       white    True  2018-08-11           19  \n",
       "4    automatic  SUV       white    True  2018-07-07            9  "
      ]
     },
     "execution_count": 46,
     "metadata": {},
     "output_type": "execute_result"
    }
   ],
   "source": [
    "del(data['model_year_median'])\n",
    "data.head(5)"
   ]
  },
  {
   "cell_type": "markdown",
   "metadata": {},
   "source": [
    "Reemplazando valores nulos en 'cylinders'."
   ]
  },
  {
   "cell_type": "code",
   "execution_count": 47,
   "metadata": {},
   "outputs": [
    {
     "data": {
      "text/html": [
       "<div>\n",
       "<style scoped>\n",
       "    .dataframe tbody tr th:only-of-type {\n",
       "        vertical-align: middle;\n",
       "    }\n",
       "\n",
       "    .dataframe tbody tr th {\n",
       "        vertical-align: top;\n",
       "    }\n",
       "\n",
       "    .dataframe thead th {\n",
       "        text-align: right;\n",
       "    }\n",
       "</style>\n",
       "<table border=\"1\" class=\"dataframe\">\n",
       "  <thead>\n",
       "    <tr style=\"text-align: right;\">\n",
       "      <th></th>\n",
       "      <th>price</th>\n",
       "      <th>model_year</th>\n",
       "      <th>model</th>\n",
       "      <th>condition</th>\n",
       "      <th>cylinders</th>\n",
       "      <th>fuel</th>\n",
       "      <th>odometer</th>\n",
       "      <th>transmission</th>\n",
       "      <th>type</th>\n",
       "      <th>paint_color</th>\n",
       "      <th>is_4wd</th>\n",
       "      <th>date_posted</th>\n",
       "      <th>days_listed</th>\n",
       "    </tr>\n",
       "  </thead>\n",
       "  <tbody>\n",
       "    <tr>\n",
       "      <th>0</th>\n",
       "      <td>9400</td>\n",
       "      <td>2011.0</td>\n",
       "      <td>bmw x5</td>\n",
       "      <td>good</td>\n",
       "      <td>6.000000</td>\n",
       "      <td>gas</td>\n",
       "      <td>145000.0</td>\n",
       "      <td>automatic</td>\n",
       "      <td>SUV</td>\n",
       "      <td>NaN</td>\n",
       "      <td>True</td>\n",
       "      <td>2018-06-23</td>\n",
       "      <td>19</td>\n",
       "    </tr>\n",
       "    <tr>\n",
       "      <th>1</th>\n",
       "      <td>3200</td>\n",
       "      <td>2004.0</td>\n",
       "      <td>bmw x5</td>\n",
       "      <td>excellent</td>\n",
       "      <td>6.000000</td>\n",
       "      <td>gas</td>\n",
       "      <td>NaN</td>\n",
       "      <td>automatic</td>\n",
       "      <td>SUV</td>\n",
       "      <td>black</td>\n",
       "      <td>True</td>\n",
       "      <td>2019-04-09</td>\n",
       "      <td>10</td>\n",
       "    </tr>\n",
       "    <tr>\n",
       "      <th>2</th>\n",
       "      <td>8499</td>\n",
       "      <td>2009.0</td>\n",
       "      <td>bmw x5</td>\n",
       "      <td>good</td>\n",
       "      <td>6.406375</td>\n",
       "      <td>gas</td>\n",
       "      <td>104482.0</td>\n",
       "      <td>automatic</td>\n",
       "      <td>SUV</td>\n",
       "      <td>blue</td>\n",
       "      <td>True</td>\n",
       "      <td>2019-03-04</td>\n",
       "      <td>52</td>\n",
       "    </tr>\n",
       "    <tr>\n",
       "      <th>3</th>\n",
       "      <td>22914</td>\n",
       "      <td>2015.0</td>\n",
       "      <td>bmw x5</td>\n",
       "      <td>excellent</td>\n",
       "      <td>6.000000</td>\n",
       "      <td>gas</td>\n",
       "      <td>69686.0</td>\n",
       "      <td>automatic</td>\n",
       "      <td>SUV</td>\n",
       "      <td>white</td>\n",
       "      <td>True</td>\n",
       "      <td>2018-08-11</td>\n",
       "      <td>19</td>\n",
       "    </tr>\n",
       "    <tr>\n",
       "      <th>4</th>\n",
       "      <td>22914</td>\n",
       "      <td>2015.0</td>\n",
       "      <td>bmw x5</td>\n",
       "      <td>excellent</td>\n",
       "      <td>6.000000</td>\n",
       "      <td>gas</td>\n",
       "      <td>69686.0</td>\n",
       "      <td>automatic</td>\n",
       "      <td>SUV</td>\n",
       "      <td>white</td>\n",
       "      <td>True</td>\n",
       "      <td>2018-07-07</td>\n",
       "      <td>9</td>\n",
       "    </tr>\n",
       "  </tbody>\n",
       "</table>\n",
       "</div>"
      ],
      "text/plain": [
       "   price  model_year   model  condition  cylinders fuel  odometer  \\\n",
       "0   9400      2011.0  bmw x5       good   6.000000  gas  145000.0   \n",
       "1   3200      2004.0  bmw x5  excellent   6.000000  gas       NaN   \n",
       "2   8499      2009.0  bmw x5       good   6.406375  gas  104482.0   \n",
       "3  22914      2015.0  bmw x5  excellent   6.000000  gas   69686.0   \n",
       "4  22914      2015.0  bmw x5  excellent   6.000000  gas   69686.0   \n",
       "\n",
       "  transmission type paint_color  is_4wd date_posted  days_listed  \n",
       "0    automatic  SUV         NaN    True  2018-06-23           19  \n",
       "1    automatic  SUV       black    True  2019-04-09           10  \n",
       "2    automatic  SUV        blue    True  2019-03-04           52  \n",
       "3    automatic  SUV       white    True  2018-08-11           19  \n",
       "4    automatic  SUV       white    True  2018-07-07            9  "
      ]
     },
     "execution_count": 47,
     "metadata": {},
     "output_type": "execute_result"
    }
   ],
   "source": [
    "#reemplazando datos nulos en 'cylinders' por la media según 'model'\n",
    "cylinders=data.pivot_table(index='model',values='cylinders',aggfunc='mean')\n",
    "cylinders.columns=['cylinders_2']\n",
    "data = data.merge(cylinders, on='model')\n",
    "data['cylinders']=data['cylinders'].where(~data['cylinders'].isna(),data['cylinders_2'])\n",
    "del(data['cylinders_2'])\n",
    "data.head(5)"
   ]
  },
  {
   "cell_type": "markdown",
   "metadata": {},
   "source": [
    "Reemplazando valores nulos en 'odometer'"
   ]
  },
  {
   "cell_type": "code",
   "execution_count": 48,
   "metadata": {},
   "outputs": [
    {
     "data": {
      "text/html": [
       "<div>\n",
       "<style scoped>\n",
       "    .dataframe tbody tr th:only-of-type {\n",
       "        vertical-align: middle;\n",
       "    }\n",
       "\n",
       "    .dataframe tbody tr th {\n",
       "        vertical-align: top;\n",
       "    }\n",
       "\n",
       "    .dataframe thead th {\n",
       "        text-align: right;\n",
       "    }\n",
       "</style>\n",
       "<table border=\"1\" class=\"dataframe\">\n",
       "  <thead>\n",
       "    <tr style=\"text-align: right;\">\n",
       "      <th></th>\n",
       "      <th>price</th>\n",
       "      <th>model_year</th>\n",
       "      <th>model</th>\n",
       "      <th>condition</th>\n",
       "      <th>cylinders</th>\n",
       "      <th>fuel</th>\n",
       "      <th>odometer</th>\n",
       "      <th>transmission</th>\n",
       "      <th>type</th>\n",
       "      <th>paint_color</th>\n",
       "      <th>is_4wd</th>\n",
       "      <th>date_posted</th>\n",
       "      <th>days_listed</th>\n",
       "    </tr>\n",
       "  </thead>\n",
       "  <tbody>\n",
       "    <tr>\n",
       "      <th>0</th>\n",
       "      <td>9400</td>\n",
       "      <td>2011.0</td>\n",
       "      <td>bmw x5</td>\n",
       "      <td>good</td>\n",
       "      <td>6.000000</td>\n",
       "      <td>gas</td>\n",
       "      <td>145000.000000</td>\n",
       "      <td>automatic</td>\n",
       "      <td>SUV</td>\n",
       "      <td>NaN</td>\n",
       "      <td>True</td>\n",
       "      <td>2018-06-23</td>\n",
       "      <td>19</td>\n",
       "    </tr>\n",
       "    <tr>\n",
       "      <th>1</th>\n",
       "      <td>3200</td>\n",
       "      <td>2004.0</td>\n",
       "      <td>bmw x5</td>\n",
       "      <td>excellent</td>\n",
       "      <td>6.000000</td>\n",
       "      <td>gas</td>\n",
       "      <td>113210.140351</td>\n",
       "      <td>automatic</td>\n",
       "      <td>SUV</td>\n",
       "      <td>black</td>\n",
       "      <td>True</td>\n",
       "      <td>2019-04-09</td>\n",
       "      <td>10</td>\n",
       "    </tr>\n",
       "    <tr>\n",
       "      <th>2</th>\n",
       "      <td>8499</td>\n",
       "      <td>2009.0</td>\n",
       "      <td>bmw x5</td>\n",
       "      <td>good</td>\n",
       "      <td>6.406375</td>\n",
       "      <td>gas</td>\n",
       "      <td>104482.000000</td>\n",
       "      <td>automatic</td>\n",
       "      <td>SUV</td>\n",
       "      <td>blue</td>\n",
       "      <td>True</td>\n",
       "      <td>2019-03-04</td>\n",
       "      <td>52</td>\n",
       "    </tr>\n",
       "    <tr>\n",
       "      <th>3</th>\n",
       "      <td>22914</td>\n",
       "      <td>2015.0</td>\n",
       "      <td>bmw x5</td>\n",
       "      <td>excellent</td>\n",
       "      <td>6.000000</td>\n",
       "      <td>gas</td>\n",
       "      <td>69686.000000</td>\n",
       "      <td>automatic</td>\n",
       "      <td>SUV</td>\n",
       "      <td>white</td>\n",
       "      <td>True</td>\n",
       "      <td>2018-08-11</td>\n",
       "      <td>19</td>\n",
       "    </tr>\n",
       "    <tr>\n",
       "      <th>4</th>\n",
       "      <td>22914</td>\n",
       "      <td>2015.0</td>\n",
       "      <td>bmw x5</td>\n",
       "      <td>excellent</td>\n",
       "      <td>6.000000</td>\n",
       "      <td>gas</td>\n",
       "      <td>69686.000000</td>\n",
       "      <td>automatic</td>\n",
       "      <td>SUV</td>\n",
       "      <td>white</td>\n",
       "      <td>True</td>\n",
       "      <td>2018-07-07</td>\n",
       "      <td>9</td>\n",
       "    </tr>\n",
       "  </tbody>\n",
       "</table>\n",
       "</div>"
      ],
      "text/plain": [
       "   price  model_year   model  condition  cylinders fuel       odometer  \\\n",
       "0   9400      2011.0  bmw x5       good   6.000000  gas  145000.000000   \n",
       "1   3200      2004.0  bmw x5  excellent   6.000000  gas  113210.140351   \n",
       "2   8499      2009.0  bmw x5       good   6.406375  gas  104482.000000   \n",
       "3  22914      2015.0  bmw x5  excellent   6.000000  gas   69686.000000   \n",
       "4  22914      2015.0  bmw x5  excellent   6.000000  gas   69686.000000   \n",
       "\n",
       "  transmission type paint_color  is_4wd date_posted  days_listed  \n",
       "0    automatic  SUV         NaN    True  2018-06-23           19  \n",
       "1    automatic  SUV       black    True  2019-04-09           10  \n",
       "2    automatic  SUV        blue    True  2019-03-04           52  \n",
       "3    automatic  SUV       white    True  2018-08-11           19  \n",
       "4    automatic  SUV       white    True  2018-07-07            9  "
      ]
     },
     "execution_count": 48,
     "metadata": {},
     "output_type": "execute_result"
    }
   ],
   "source": [
    "#reemplazando datos nulos en 'odometer' por la media según 'model'\n",
    "mean_odometer=data.pivot_table(index='model',values='odometer',aggfunc='mean')\n",
    "mean_odometer.columns=['odometer_mean']\n",
    "data = data.merge(mean_odometer, on='model')\n",
    "data['odometer']=data['odometer'].where(~data['odometer'].isna(),data['odometer_mean'])\n",
    "del(data['odometer_mean'])\n",
    "data.head(5)"
   ]
  },
  {
   "cell_type": "markdown",
   "metadata": {},
   "source": [
    "Reemplazando valores nulos en 'paint_color' al valor 'unknown'."
   ]
  },
  {
   "cell_type": "code",
   "execution_count": 49,
   "metadata": {},
   "outputs": [],
   "source": [
    "data['paint_color'] = data['paint_color'].fillna('unknown')"
   ]
  },
  {
   "cell_type": "markdown",
   "metadata": {},
   "source": [
    "## Corrección de los tipos de datos"
   ]
  },
  {
   "cell_type": "code",
   "execution_count": 50,
   "metadata": {},
   "outputs": [
    {
     "name": "stdout",
     "output_type": "stream",
     "text": [
      "<class 'pandas.core.frame.DataFrame'>\n",
      "Int64Index: 51484 entries, 0 to 51483\n",
      "Data columns (total 13 columns):\n",
      " #   Column        Non-Null Count  Dtype  \n",
      "---  ------        --------------  -----  \n",
      " 0   price         51484 non-null  int64  \n",
      " 1   model_year    51484 non-null  float64\n",
      " 2   model         51484 non-null  object \n",
      " 3   condition     51484 non-null  object \n",
      " 4   cylinders     51484 non-null  float64\n",
      " 5   fuel          51484 non-null  object \n",
      " 6   odometer      51484 non-null  float64\n",
      " 7   transmission  51484 non-null  object \n",
      " 8   type          51484 non-null  object \n",
      " 9   paint_color   51484 non-null  object \n",
      " 10  is_4wd        51484 non-null  bool   \n",
      " 11  date_posted   51484 non-null  object \n",
      " 12  days_listed   51484 non-null  int64  \n",
      "dtypes: bool(1), float64(3), int64(2), object(7)\n",
      "memory usage: 5.2+ MB\n"
     ]
    }
   ],
   "source": [
    "data.info()"
   ]
  },
  {
   "cell_type": "code",
   "execution_count": 51,
   "metadata": {},
   "outputs": [
    {
     "data": {
      "text/plain": [
       "0       2018-06-23\n",
       "1       2019-04-09\n",
       "2       2019-03-04\n",
       "3       2018-08-11\n",
       "4       2018-07-07\n",
       "           ...    \n",
       "51479   2018-12-09\n",
       "51480   2018-06-30\n",
       "51481   2019-02-27\n",
       "51482   2019-03-01\n",
       "51483   2018-10-01\n",
       "Name: date_posted, Length: 51484, dtype: datetime64[ns]"
      ]
     },
     "execution_count": 51,
     "metadata": {},
     "output_type": "execute_result"
    }
   ],
   "source": [
    "# Agregamos valores de fecha y hora para cuando se colocó el anuncio\n",
    "data['date_posted'] = pd.to_datetime(data['date_posted'], \n",
    "                                      format=\"%Y-%m-%d\")\n",
    "data['date_posted']"
   ]
  },
  {
   "cell_type": "code",
   "execution_count": 52,
   "metadata": {},
   "outputs": [
    {
     "name": "stdout",
     "output_type": "stream",
     "text": [
      "<class 'pandas.core.frame.DataFrame'>\n",
      "Int64Index: 51484 entries, 0 to 51483\n",
      "Data columns (total 13 columns):\n",
      " #   Column        Non-Null Count  Dtype         \n",
      "---  ------        --------------  -----         \n",
      " 0   price         51484 non-null  float64       \n",
      " 1   model_year    51484 non-null  int64         \n",
      " 2   model         51484 non-null  object        \n",
      " 3   condition     51484 non-null  object        \n",
      " 4   cylinders     51484 non-null  float64       \n",
      " 5   fuel          51484 non-null  object        \n",
      " 6   odometer      51484 non-null  float64       \n",
      " 7   transmission  51484 non-null  object        \n",
      " 8   type          51484 non-null  object        \n",
      " 9   paint_color   51484 non-null  object        \n",
      " 10  is_4wd        51484 non-null  bool          \n",
      " 11  date_posted   51484 non-null  datetime64[ns]\n",
      " 12  days_listed   51484 non-null  int64         \n",
      "dtypes: bool(1), datetime64[ns](1), float64(3), int64(2), object(6)\n",
      "memory usage: 5.2+ MB\n"
     ]
    }
   ],
   "source": [
    "data['price']=data['price'].astype(float)\n",
    "data['model_year']=data['model_year'].astype(int)\n",
    "data.info()\n"
   ]
  },
  {
   "cell_type": "code",
   "execution_count": 53,
   "metadata": {},
   "outputs": [
    {
     "data": {
      "text/plain": [
       "0"
      ]
     },
     "execution_count": 53,
     "metadata": {},
     "output_type": "execute_result"
    }
   ],
   "source": [
    "data.duplicated().sum()"
   ]
  },
  {
   "cell_type": "markdown",
   "metadata": {},
   "source": [
    "## Preprocesamiento de datos"
   ]
  },
  {
   "cell_type": "code",
   "execution_count": 54,
   "metadata": {},
   "outputs": [
    {
     "data": {
      "text/plain": [
       "0        2018\n",
       "1        2019\n",
       "2        2019\n",
       "3        2018\n",
       "4        2018\n",
       "         ... \n",
       "51479    2018\n",
       "51480    2018\n",
       "51481    2019\n",
       "51482    2019\n",
       "51483    2018\n",
       "Name: year_posted, Length: 51484, dtype: int64"
      ]
     },
     "execution_count": 54,
     "metadata": {},
     "output_type": "execute_result"
    }
   ],
   "source": [
    "# Agregamos los años del vehículo cuando el anuncio se colocó\n",
    "data['year_posted']=data['date_posted'].dt.year\n",
    "data['year_posted']\n"
   ]
  },
  {
   "cell_type": "code",
   "execution_count": 55,
   "metadata": {},
   "outputs": [
    {
     "data": {
      "text/plain": [
       "0"
      ]
     },
     "execution_count": 55,
     "metadata": {},
     "output_type": "execute_result"
    }
   ],
   "source": [
    "# Agrega el millaje promedio del vehículo por año\n",
    "data['mean_odometer']=data['odometer']/(1+data['year_posted']-data['model_year'])\n",
    "data['mean_odometer'].isna().sum()\n"
   ]
  },
  {
   "cell_type": "markdown",
   "metadata": {},
   "source": [
    "Los valores categóricos en la columna 'condition' serán reemplazados por valores del 0 al 5."
   ]
  },
  {
   "cell_type": "code",
   "execution_count": 56,
   "metadata": {},
   "outputs": [],
   "source": [
    "# Podría ser útil reemplazar los valores de condición con algo que se pueda manipular más fácilmente\n",
    "data['condition']=data['condition'].replace(\"new\", \"5\")\n",
    "data['condition']=data['condition'].replace(\"like new\", \"4\")\n",
    "data['condition']=data['condition'].replace(\"excellent\", \"3\")\n",
    "data['condition']=data['condition'].replace(\"good\", \"2\")\n",
    "data['condition']=data['condition'].replace(\"fair\", \"1\")\n",
    "data['condition']=data['condition'].replace(\"salvage\", \"0\")\n",
    "data['condition'].unique()\n",
    "\n",
    "data['condition']=data['condition'].astype(int)"
   ]
  },
  {
   "cell_type": "markdown",
   "metadata": {},
   "source": [
    "## Comprobamos datos limpios"
   ]
  },
  {
   "cell_type": "code",
   "execution_count": 57,
   "metadata": {},
   "outputs": [
    {
     "name": "stdout",
     "output_type": "stream",
     "text": [
      "<class 'pandas.core.frame.DataFrame'>\n",
      "Int64Index: 51484 entries, 0 to 51483\n",
      "Data columns (total 15 columns):\n",
      " #   Column         Non-Null Count  Dtype         \n",
      "---  ------         --------------  -----         \n",
      " 0   price          51484 non-null  float64       \n",
      " 1   model_year     51484 non-null  int64         \n",
      " 2   model          51484 non-null  object        \n",
      " 3   condition      51484 non-null  int64         \n",
      " 4   cylinders      51484 non-null  float64       \n",
      " 5   fuel           51484 non-null  object        \n",
      " 6   odometer       51484 non-null  float64       \n",
      " 7   transmission   51484 non-null  object        \n",
      " 8   type           51484 non-null  object        \n",
      " 9   paint_color    51484 non-null  object        \n",
      " 10  is_4wd         51484 non-null  bool          \n",
      " 11  date_posted    51484 non-null  datetime64[ns]\n",
      " 12  days_listed    51484 non-null  int64         \n",
      " 13  year_posted    51484 non-null  int64         \n",
      " 14  mean_odometer  51484 non-null  float64       \n",
      "dtypes: bool(1), datetime64[ns](1), float64(4), int64(4), object(5)\n",
      "memory usage: 5.9+ MB\n"
     ]
    }
   ],
   "source": [
    "# imprimimos la información general/resumida sobre el DataFrame\n",
    "data.info()\n"
   ]
  },
  {
   "cell_type": "code",
   "execution_count": 58,
   "metadata": {
    "scrolled": true
   },
   "outputs": [
    {
     "data": {
      "text/html": [
       "<div>\n",
       "<style scoped>\n",
       "    .dataframe tbody tr th:only-of-type {\n",
       "        vertical-align: middle;\n",
       "    }\n",
       "\n",
       "    .dataframe tbody tr th {\n",
       "        vertical-align: top;\n",
       "    }\n",
       "\n",
       "    .dataframe thead th {\n",
       "        text-align: right;\n",
       "    }\n",
       "</style>\n",
       "<table border=\"1\" class=\"dataframe\">\n",
       "  <thead>\n",
       "    <tr style=\"text-align: right;\">\n",
       "      <th></th>\n",
       "      <th>price</th>\n",
       "      <th>model_year</th>\n",
       "      <th>model</th>\n",
       "      <th>condition</th>\n",
       "      <th>cylinders</th>\n",
       "      <th>fuel</th>\n",
       "      <th>odometer</th>\n",
       "      <th>transmission</th>\n",
       "      <th>type</th>\n",
       "      <th>paint_color</th>\n",
       "      <th>is_4wd</th>\n",
       "      <th>date_posted</th>\n",
       "      <th>days_listed</th>\n",
       "      <th>year_posted</th>\n",
       "      <th>mean_odometer</th>\n",
       "    </tr>\n",
       "  </thead>\n",
       "  <tbody>\n",
       "    <tr>\n",
       "      <th>0</th>\n",
       "      <td>9400.0</td>\n",
       "      <td>2011</td>\n",
       "      <td>bmw x5</td>\n",
       "      <td>2</td>\n",
       "      <td>6.000000</td>\n",
       "      <td>gas</td>\n",
       "      <td>145000.000000</td>\n",
       "      <td>automatic</td>\n",
       "      <td>SUV</td>\n",
       "      <td>unknown</td>\n",
       "      <td>True</td>\n",
       "      <td>2018-06-23</td>\n",
       "      <td>19</td>\n",
       "      <td>2018</td>\n",
       "      <td>18125.000000</td>\n",
       "    </tr>\n",
       "    <tr>\n",
       "      <th>1</th>\n",
       "      <td>3200.0</td>\n",
       "      <td>2004</td>\n",
       "      <td>bmw x5</td>\n",
       "      <td>3</td>\n",
       "      <td>6.000000</td>\n",
       "      <td>gas</td>\n",
       "      <td>113210.140351</td>\n",
       "      <td>automatic</td>\n",
       "      <td>SUV</td>\n",
       "      <td>black</td>\n",
       "      <td>True</td>\n",
       "      <td>2019-04-09</td>\n",
       "      <td>10</td>\n",
       "      <td>2019</td>\n",
       "      <td>7075.633772</td>\n",
       "    </tr>\n",
       "    <tr>\n",
       "      <th>2</th>\n",
       "      <td>8499.0</td>\n",
       "      <td>2009</td>\n",
       "      <td>bmw x5</td>\n",
       "      <td>2</td>\n",
       "      <td>6.406375</td>\n",
       "      <td>gas</td>\n",
       "      <td>104482.000000</td>\n",
       "      <td>automatic</td>\n",
       "      <td>SUV</td>\n",
       "      <td>blue</td>\n",
       "      <td>True</td>\n",
       "      <td>2019-03-04</td>\n",
       "      <td>52</td>\n",
       "      <td>2019</td>\n",
       "      <td>9498.363636</td>\n",
       "    </tr>\n",
       "    <tr>\n",
       "      <th>3</th>\n",
       "      <td>22914.0</td>\n",
       "      <td>2015</td>\n",
       "      <td>bmw x5</td>\n",
       "      <td>3</td>\n",
       "      <td>6.000000</td>\n",
       "      <td>gas</td>\n",
       "      <td>69686.000000</td>\n",
       "      <td>automatic</td>\n",
       "      <td>SUV</td>\n",
       "      <td>white</td>\n",
       "      <td>True</td>\n",
       "      <td>2018-08-11</td>\n",
       "      <td>19</td>\n",
       "      <td>2018</td>\n",
       "      <td>17421.500000</td>\n",
       "    </tr>\n",
       "    <tr>\n",
       "      <th>4</th>\n",
       "      <td>22914.0</td>\n",
       "      <td>2015</td>\n",
       "      <td>bmw x5</td>\n",
       "      <td>3</td>\n",
       "      <td>6.000000</td>\n",
       "      <td>gas</td>\n",
       "      <td>69686.000000</td>\n",
       "      <td>automatic</td>\n",
       "      <td>SUV</td>\n",
       "      <td>white</td>\n",
       "      <td>True</td>\n",
       "      <td>2018-07-07</td>\n",
       "      <td>9</td>\n",
       "      <td>2018</td>\n",
       "      <td>17421.500000</td>\n",
       "    </tr>\n",
       "  </tbody>\n",
       "</table>\n",
       "</div>"
      ],
      "text/plain": [
       "     price  model_year   model  condition  cylinders fuel       odometer  \\\n",
       "0   9400.0        2011  bmw x5          2   6.000000  gas  145000.000000   \n",
       "1   3200.0        2004  bmw x5          3   6.000000  gas  113210.140351   \n",
       "2   8499.0        2009  bmw x5          2   6.406375  gas  104482.000000   \n",
       "3  22914.0        2015  bmw x5          3   6.000000  gas   69686.000000   \n",
       "4  22914.0        2015  bmw x5          3   6.000000  gas   69686.000000   \n",
       "\n",
       "  transmission type paint_color  is_4wd date_posted  days_listed  year_posted  \\\n",
       "0    automatic  SUV     unknown    True  2018-06-23           19         2018   \n",
       "1    automatic  SUV       black    True  2019-04-09           10         2019   \n",
       "2    automatic  SUV        blue    True  2019-03-04           52         2019   \n",
       "3    automatic  SUV       white    True  2018-08-11           19         2018   \n",
       "4    automatic  SUV       white    True  2018-07-07            9         2018   \n",
       "\n",
       "   mean_odometer  \n",
       "0   18125.000000  \n",
       "1    7075.633772  \n",
       "2    9498.363636  \n",
       "3   17421.500000  \n",
       "4   17421.500000  "
      ]
     },
     "execution_count": 58,
     "metadata": {},
     "output_type": "execute_result"
    }
   ],
   "source": [
    "# imprimir una muestra de datos\n",
    "data.head(5)\n"
   ]
  },
  {
   "cell_type": "markdown",
   "metadata": {},
   "source": [
    "## Parámetros principales\n",
    "\n",
    "Se estudiará los parámetros usando tablas de correlación así como histogramas y diagrama de cajas. Se verificará si la presencia de valores atípicos y se eliminará dependiendo del caso.\n",
    "\n",
    "Los parámetros son:\n",
    "- Precio\n",
    "- Los años del vehículo cuando el anuncio se colocó\n",
    "- Millaje\n",
    "- Número de cilindros\n",
    "- Estado"
   ]
  },
  {
   "cell_type": "code",
   "execution_count": 59,
   "metadata": {
    "scrolled": true
   },
   "outputs": [
    {
     "data": {
      "text/html": [
       "<div>\n",
       "<style scoped>\n",
       "    .dataframe tbody tr th:only-of-type {\n",
       "        vertical-align: middle;\n",
       "    }\n",
       "\n",
       "    .dataframe tbody tr th {\n",
       "        vertical-align: top;\n",
       "    }\n",
       "\n",
       "    .dataframe thead th {\n",
       "        text-align: right;\n",
       "    }\n",
       "</style>\n",
       "<table border=\"1\" class=\"dataframe\">\n",
       "  <thead>\n",
       "    <tr style=\"text-align: right;\">\n",
       "      <th></th>\n",
       "      <th>price</th>\n",
       "      <th>model_year</th>\n",
       "      <th>condition</th>\n",
       "      <th>cylinders</th>\n",
       "      <th>odometer</th>\n",
       "      <th>is_4wd</th>\n",
       "      <th>days_listed</th>\n",
       "      <th>year_posted</th>\n",
       "      <th>mean_odometer</th>\n",
       "    </tr>\n",
       "  </thead>\n",
       "  <tbody>\n",
       "    <tr>\n",
       "      <th>price</th>\n",
       "      <td>1.000000</td>\n",
       "      <td>0.412912</td>\n",
       "      <td>0.221075</td>\n",
       "      <td>0.302337</td>\n",
       "      <td>-0.384876</td>\n",
       "      <td>0.317713</td>\n",
       "      <td>-0.000620</td>\n",
       "      <td>0.004604</td>\n",
       "      <td>0.199726</td>\n",
       "    </tr>\n",
       "    <tr>\n",
       "      <th>model_year</th>\n",
       "      <td>0.412912</td>\n",
       "      <td>1.000000</td>\n",
       "      <td>0.269542</td>\n",
       "      <td>-0.148301</td>\n",
       "      <td>-0.433738</td>\n",
       "      <td>0.039538</td>\n",
       "      <td>-0.005308</td>\n",
       "      <td>0.008307</td>\n",
       "      <td>0.416666</td>\n",
       "    </tr>\n",
       "    <tr>\n",
       "      <th>condition</th>\n",
       "      <td>0.221075</td>\n",
       "      <td>0.269542</td>\n",
       "      <td>1.000000</td>\n",
       "      <td>-0.065553</td>\n",
       "      <td>-0.268728</td>\n",
       "      <td>0.013264</td>\n",
       "      <td>-0.002391</td>\n",
       "      <td>0.003760</td>\n",
       "      <td>0.090442</td>\n",
       "    </tr>\n",
       "    <tr>\n",
       "      <th>cylinders</th>\n",
       "      <td>0.302337</td>\n",
       "      <td>-0.148301</td>\n",
       "      <td>-0.065553</td>\n",
       "      <td>1.000000</td>\n",
       "      <td>0.096330</td>\n",
       "      <td>0.406522</td>\n",
       "      <td>0.004145</td>\n",
       "      <td>-0.000121</td>\n",
       "      <td>-0.020306</td>\n",
       "    </tr>\n",
       "    <tr>\n",
       "      <th>odometer</th>\n",
       "      <td>-0.384876</td>\n",
       "      <td>-0.433738</td>\n",
       "      <td>-0.268728</td>\n",
       "      <td>0.096330</td>\n",
       "      <td>1.000000</td>\n",
       "      <td>0.046589</td>\n",
       "      <td>0.002446</td>\n",
       "      <td>-0.006404</td>\n",
       "      <td>0.207308</td>\n",
       "    </tr>\n",
       "    <tr>\n",
       "      <th>is_4wd</th>\n",
       "      <td>0.317713</td>\n",
       "      <td>0.039538</td>\n",
       "      <td>0.013264</td>\n",
       "      <td>0.406522</td>\n",
       "      <td>0.046589</td>\n",
       "      <td>1.000000</td>\n",
       "      <td>0.001977</td>\n",
       "      <td>-0.002419</td>\n",
       "      <td>0.063299</td>\n",
       "    </tr>\n",
       "    <tr>\n",
       "      <th>days_listed</th>\n",
       "      <td>-0.000620</td>\n",
       "      <td>-0.005308</td>\n",
       "      <td>-0.002391</td>\n",
       "      <td>0.004145</td>\n",
       "      <td>0.002446</td>\n",
       "      <td>0.001977</td>\n",
       "      <td>1.000000</td>\n",
       "      <td>0.011265</td>\n",
       "      <td>-0.005654</td>\n",
       "    </tr>\n",
       "    <tr>\n",
       "      <th>year_posted</th>\n",
       "      <td>0.004604</td>\n",
       "      <td>0.008307</td>\n",
       "      <td>0.003760</td>\n",
       "      <td>-0.000121</td>\n",
       "      <td>-0.006404</td>\n",
       "      <td>-0.002419</td>\n",
       "      <td>0.011265</td>\n",
       "      <td>1.000000</td>\n",
       "      <td>-0.100906</td>\n",
       "    </tr>\n",
       "    <tr>\n",
       "      <th>mean_odometer</th>\n",
       "      <td>0.199726</td>\n",
       "      <td>0.416666</td>\n",
       "      <td>0.090442</td>\n",
       "      <td>-0.020306</td>\n",
       "      <td>0.207308</td>\n",
       "      <td>0.063299</td>\n",
       "      <td>-0.005654</td>\n",
       "      <td>-0.100906</td>\n",
       "      <td>1.000000</td>\n",
       "    </tr>\n",
       "  </tbody>\n",
       "</table>\n",
       "</div>"
      ],
      "text/plain": [
       "                  price  model_year  condition  cylinders  odometer    is_4wd  \\\n",
       "price          1.000000    0.412912   0.221075   0.302337 -0.384876  0.317713   \n",
       "model_year     0.412912    1.000000   0.269542  -0.148301 -0.433738  0.039538   \n",
       "condition      0.221075    0.269542   1.000000  -0.065553 -0.268728  0.013264   \n",
       "cylinders      0.302337   -0.148301  -0.065553   1.000000  0.096330  0.406522   \n",
       "odometer      -0.384876   -0.433738  -0.268728   0.096330  1.000000  0.046589   \n",
       "is_4wd         0.317713    0.039538   0.013264   0.406522  0.046589  1.000000   \n",
       "days_listed   -0.000620   -0.005308  -0.002391   0.004145  0.002446  0.001977   \n",
       "year_posted    0.004604    0.008307   0.003760  -0.000121 -0.006404 -0.002419   \n",
       "mean_odometer  0.199726    0.416666   0.090442  -0.020306  0.207308  0.063299   \n",
       "\n",
       "               days_listed  year_posted  mean_odometer  \n",
       "price            -0.000620     0.004604       0.199726  \n",
       "model_year       -0.005308     0.008307       0.416666  \n",
       "condition        -0.002391     0.003760       0.090442  \n",
       "cylinders         0.004145    -0.000121      -0.020306  \n",
       "odometer          0.002446    -0.006404       0.207308  \n",
       "is_4wd            0.001977    -0.002419       0.063299  \n",
       "days_listed       1.000000     0.011265      -0.005654  \n",
       "year_posted       0.011265     1.000000      -0.100906  \n",
       "mean_odometer    -0.005654    -0.100906       1.000000  "
      ]
     },
     "execution_count": 59,
     "metadata": {},
     "output_type": "execute_result"
    }
   ],
   "source": [
    "data.corr()"
   ]
  },
  {
   "cell_type": "code",
   "execution_count": 60,
   "metadata": {},
   "outputs": [
    {
     "data": {
      "text/html": [
       "<div>\n",
       "<style scoped>\n",
       "    .dataframe tbody tr th:only-of-type {\n",
       "        vertical-align: middle;\n",
       "    }\n",
       "\n",
       "    .dataframe tbody tr th {\n",
       "        vertical-align: top;\n",
       "    }\n",
       "\n",
       "    .dataframe thead th {\n",
       "        text-align: right;\n",
       "    }\n",
       "</style>\n",
       "<table border=\"1\" class=\"dataframe\">\n",
       "  <thead>\n",
       "    <tr style=\"text-align: right;\">\n",
       "      <th></th>\n",
       "      <th>price</th>\n",
       "      <th>model_year</th>\n",
       "      <th>odometer</th>\n",
       "      <th>cylinders</th>\n",
       "      <th>condition</th>\n",
       "    </tr>\n",
       "  </thead>\n",
       "  <tbody>\n",
       "    <tr>\n",
       "      <th>price</th>\n",
       "      <td>1.000000</td>\n",
       "      <td>0.412912</td>\n",
       "      <td>-0.384876</td>\n",
       "      <td>0.302337</td>\n",
       "      <td>0.221075</td>\n",
       "    </tr>\n",
       "    <tr>\n",
       "      <th>model_year</th>\n",
       "      <td>0.412912</td>\n",
       "      <td>1.000000</td>\n",
       "      <td>-0.433738</td>\n",
       "      <td>-0.148301</td>\n",
       "      <td>0.269542</td>\n",
       "    </tr>\n",
       "    <tr>\n",
       "      <th>odometer</th>\n",
       "      <td>-0.384876</td>\n",
       "      <td>-0.433738</td>\n",
       "      <td>1.000000</td>\n",
       "      <td>0.096330</td>\n",
       "      <td>-0.268728</td>\n",
       "    </tr>\n",
       "    <tr>\n",
       "      <th>cylinders</th>\n",
       "      <td>0.302337</td>\n",
       "      <td>-0.148301</td>\n",
       "      <td>0.096330</td>\n",
       "      <td>1.000000</td>\n",
       "      <td>-0.065553</td>\n",
       "    </tr>\n",
       "    <tr>\n",
       "      <th>condition</th>\n",
       "      <td>0.221075</td>\n",
       "      <td>0.269542</td>\n",
       "      <td>-0.268728</td>\n",
       "      <td>-0.065553</td>\n",
       "      <td>1.000000</td>\n",
       "    </tr>\n",
       "  </tbody>\n",
       "</table>\n",
       "</div>"
      ],
      "text/plain": [
       "               price  model_year  odometer  cylinders  condition\n",
       "price       1.000000    0.412912 -0.384876   0.302337   0.221075\n",
       "model_year  0.412912    1.000000 -0.433738  -0.148301   0.269542\n",
       "odometer   -0.384876   -0.433738  1.000000   0.096330  -0.268728\n",
       "cylinders   0.302337   -0.148301  0.096330   1.000000  -0.065553\n",
       "condition   0.221075    0.269542 -0.268728  -0.065553   1.000000"
      ]
     },
     "execution_count": 60,
     "metadata": {},
     "output_type": "execute_result"
    }
   ],
   "source": [
    "#tabla nueva con los parámetros principales\n",
    "new_data=data[['price','model_year','odometer','cylinders','condition']]\n",
    "new_data.corr()"
   ]
  },
  {
   "cell_type": "code",
   "execution_count": 61,
   "metadata": {},
   "outputs": [
    {
     "data": {
      "text/plain": [
       "array([[<AxesSubplot:title={'center':'price'}>,\n",
       "        <AxesSubplot:title={'center':'model_year'}>],\n",
       "       [<AxesSubplot:title={'center':'odometer'}>,\n",
       "        <AxesSubplot:title={'center':'cylinders'}>],\n",
       "       [<AxesSubplot:title={'center':'condition'}>, <AxesSubplot:>]],\n",
       "      dtype=object)"
      ]
     },
     "execution_count": 61,
     "metadata": {},
     "output_type": "execute_result"
    },
    {
     "data": {
      "image/png": "[encoded data removed]",
      "text/plain": [
       "<Figure size 432x288 with 6 Axes>"
      ]
     },
     "metadata": {
      "needs_background": "light"
     },
     "output_type": "display_data"
    }
   ],
   "source": [
    "#Histrograma de la nueva tabla\n",
    "new_data.hist(bins=30)"
   ]
  },
  {
   "cell_type": "code",
   "execution_count": 62,
   "metadata": {},
   "outputs": [
    {
     "data": {
      "text/plain": [
       "array([[<AxesSubplot:xlabel='price', ylabel='price'>,\n",
       "        <AxesSubplot:xlabel='model_year', ylabel='price'>,\n",
       "        <AxesSubplot:xlabel='odometer', ylabel='price'>,\n",
       "        <AxesSubplot:xlabel='cylinders', ylabel='price'>,\n",
       "        <AxesSubplot:xlabel='condition', ylabel='price'>],\n",
       "       [<AxesSubplot:xlabel='price', ylabel='model_year'>,\n",
       "        <AxesSubplot:xlabel='model_year', ylabel='model_year'>,\n",
       "        <AxesSubplot:xlabel='odometer', ylabel='model_year'>,\n",
       "        <AxesSubplot:xlabel='cylinders', ylabel='model_year'>,\n",
       "        <AxesSubplot:xlabel='condition', ylabel='model_year'>],\n",
       "       [<AxesSubplot:xlabel='price', ylabel='odometer'>,\n",
       "        <AxesSubplot:xlabel='model_year', ylabel='odometer'>,\n",
       "        <AxesSubplot:xlabel='odometer', ylabel='odometer'>,\n",
       "        <AxesSubplot:xlabel='cylinders', ylabel='odometer'>,\n",
       "        <AxesSubplot:xlabel='condition', ylabel='odometer'>],\n",
       "       [<AxesSubplot:xlabel='price', ylabel='cylinders'>,\n",
       "        <AxesSubplot:xlabel='model_year', ylabel='cylinders'>,\n",
       "        <AxesSubplot:xlabel='odometer', ylabel='cylinders'>,\n",
       "        <AxesSubplot:xlabel='cylinders', ylabel='cylinders'>,\n",
       "        <AxesSubplot:xlabel='condition', ylabel='cylinders'>],\n",
       "       [<AxesSubplot:xlabel='price', ylabel='condition'>,\n",
       "        <AxesSubplot:xlabel='model_year', ylabel='condition'>,\n",
       "        <AxesSubplot:xlabel='odometer', ylabel='condition'>,\n",
       "        <AxesSubplot:xlabel='cylinders', ylabel='condition'>,\n",
       "        <AxesSubplot:xlabel='condition', ylabel='condition'>]],\n",
       "      dtype=object)"
      ]
     },
     "execution_count": 62,
     "metadata": {},
     "output_type": "execute_result"
    },
    {
     "data": {
      "image/png": "[encoded data removed]",
      "text/plain": [
       "<Figure size 648x648 with 25 Axes>"
      ]
     },
     "metadata": {
      "needs_background": "light"
     },
     "output_type": "display_data"
    }
   ],
   "source": [
    "pd.plotting.scatter_matrix(new_data, figsize=(9, 9)) "
   ]
  },
  {
   "cell_type": "code",
   "execution_count": 63,
   "metadata": {},
   "outputs": [
    {
     "data": {
      "text/plain": [
       "<AxesSubplot:>"
      ]
     },
     "execution_count": 63,
     "metadata": {},
     "output_type": "execute_result"
    },
    {
     "data": {
      "image/png": "[encoded data removed]",
      "text/plain": [
       "<Figure size 432x288 with 1 Axes>"
      ]
     },
     "metadata": {
      "needs_background": "light"
     },
     "output_type": "display_data"
    }
   ],
   "source": [
    "#Diagrama de cajas de la columna 'price'\n",
    "data[['price']].boxplot()\n"
   ]
  },
  {
   "cell_type": "code",
   "execution_count": 64,
   "metadata": {},
   "outputs": [
    {
     "data": {
      "text/plain": [
       "<AxesSubplot:>"
      ]
     },
     "execution_count": 64,
     "metadata": {},
     "output_type": "execute_result"
    },
    {
     "data": {
      "image/png": "[encoded data removed]",
      "text/plain": [
       "<Figure size 432x288 with 1 Axes>"
      ]
     },
     "metadata": {
      "needs_background": "light"
     },
     "output_type": "display_data"
    }
   ],
   "source": [
    "#Diagrama de cajas de la columna 'model_year'\n",
    "data[['model_year']].boxplot()"
   ]
  },
  {
   "cell_type": "markdown",
   "metadata": {},
   "source": [
    "Hay mayor cantidad de vehículos en venta en el rango del 1990 al 2020 aproximadamente en el parámetro 'model_year', por lo que se puede establecer un límite inferior para eliminar los valores atípicos."
   ]
  },
  {
   "cell_type": "code",
   "execution_count": 65,
   "metadata": {},
   "outputs": [
    {
     "data": {
      "text/plain": [
       "<AxesSubplot:>"
      ]
     },
     "execution_count": 65,
     "metadata": {},
     "output_type": "execute_result"
    },
    {
     "data": {
      "image/png": "[encoded data removed]",
      "text/plain": [
       "<Figure size 432x288 with 1 Axes>"
      ]
     },
     "metadata": {
      "needs_background": "light"
     },
     "output_type": "display_data"
    }
   ],
   "source": [
    "#Diagrama de cajas de la columna 'cylinders'\n",
    "data[['cylinders']].boxplot()"
   ]
  },
  {
   "cell_type": "markdown",
   "metadata": {},
   "source": [
    "El parámetro 'cylinders' no posee valores atípicos que deban eliminarse."
   ]
  },
  {
   "cell_type": "code",
   "execution_count": 66,
   "metadata": {},
   "outputs": [
    {
     "data": {
      "text/plain": [
       "<AxesSubplot:>"
      ]
     },
     "execution_count": 66,
     "metadata": {},
     "output_type": "execute_result"
    },
    {
     "data": {
      "image/png": "[encoded data removed]",
      "text/plain": [
       "<Figure size 432x288 with 1 Axes>"
      ]
     },
     "metadata": {
      "needs_background": "light"
     },
     "output_type": "display_data"
    }
   ],
   "source": [
    "#Diagrama de cajas de la columna 'odometer'\n",
    "data[['odometer']].boxplot()"
   ]
  },
  {
   "cell_type": "code",
   "execution_count": 67,
   "metadata": {},
   "outputs": [
    {
     "data": {
      "text/plain": [
       "<AxesSubplot:>"
      ]
     },
     "execution_count": 67,
     "metadata": {},
     "output_type": "execute_result"
    },
    {
     "data": {
      "image/png": "[encoded data removed]",
      "text/plain": [
       "<Figure size 432x288 with 1 Axes>"
      ]
     },
     "metadata": {
      "needs_background": "light"
     },
     "output_type": "display_data"
    }
   ],
   "source": [
    "#Diagrama de cajas de la columna 'cylinders'\n",
    "data[['mean_odometer']].boxplot()"
   ]
  },
  {
   "cell_type": "markdown",
   "metadata": {},
   "source": [
    "En el gráfico de de correlación se muestra una correlación negativa entre el millaje y el precio, así como también una correlación positiva entre el año del modelo y el precio. \n",
    "\n",
    "Se observa que en el parámetro de millaje hay valores atípicos muy superiores que podrían eliminarse. \n",
    "\n",
    "El diagrama de cajas del millaje promedio tiene una valores atípicos superiores; sin embargo, serán eliminados al tratar los valores atípicos de la columna 'odometer'."
   ]
  },
  {
   "cell_type": "markdown",
   "metadata": {},
   "source": [
    "## Estudiar y tratar valores atípicos\n",
    "\n"
   ]
  },
  {
   "cell_type": "code",
   "execution_count": 68,
   "metadata": {},
   "outputs": [
    {
     "data": {
      "text/html": [
       "<div>\n",
       "<style scoped>\n",
       "    .dataframe tbody tr th:only-of-type {\n",
       "        vertical-align: middle;\n",
       "    }\n",
       "\n",
       "    .dataframe tbody tr th {\n",
       "        vertical-align: top;\n",
       "    }\n",
       "\n",
       "    .dataframe thead th {\n",
       "        text-align: right;\n",
       "    }\n",
       "</style>\n",
       "<table border=\"1\" class=\"dataframe\">\n",
       "  <thead>\n",
       "    <tr style=\"text-align: right;\">\n",
       "      <th></th>\n",
       "      <th>price</th>\n",
       "      <th>model_year</th>\n",
       "      <th>odometer</th>\n",
       "      <th>cylinders</th>\n",
       "      <th>condition</th>\n",
       "    </tr>\n",
       "  </thead>\n",
       "  <tbody>\n",
       "    <tr>\n",
       "      <th>count</th>\n",
       "      <td>51484.000000</td>\n",
       "      <td>51484.000000</td>\n",
       "      <td>51484.000000</td>\n",
       "      <td>51484.00000</td>\n",
       "      <td>51484.000000</td>\n",
       "    </tr>\n",
       "    <tr>\n",
       "      <th>mean</th>\n",
       "      <td>12114.333676</td>\n",
       "      <td>2009.791003</td>\n",
       "      <td>115520.255282</td>\n",
       "      <td>6.12438</td>\n",
       "      <td>2.637247</td>\n",
       "    </tr>\n",
       "    <tr>\n",
       "      <th>std</th>\n",
       "      <td>10024.214376</td>\n",
       "      <td>6.101138</td>\n",
       "      <td>60567.728845</td>\n",
       "      <td>1.64530</td>\n",
       "      <td>0.712657</td>\n",
       "    </tr>\n",
       "    <tr>\n",
       "      <th>min</th>\n",
       "      <td>1.000000</td>\n",
       "      <td>1908.000000</td>\n",
       "      <td>0.000000</td>\n",
       "      <td>3.00000</td>\n",
       "      <td>0.000000</td>\n",
       "    </tr>\n",
       "    <tr>\n",
       "      <th>25%</th>\n",
       "      <td>5000.000000</td>\n",
       "      <td>2007.000000</td>\n",
       "      <td>77000.000000</td>\n",
       "      <td>4.00000</td>\n",
       "      <td>2.000000</td>\n",
       "    </tr>\n",
       "    <tr>\n",
       "      <th>50%</th>\n",
       "      <td>9000.000000</td>\n",
       "      <td>2011.000000</td>\n",
       "      <td>115161.000000</td>\n",
       "      <td>6.00000</td>\n",
       "      <td>3.000000</td>\n",
       "    </tr>\n",
       "    <tr>\n",
       "      <th>75%</th>\n",
       "      <td>16799.250000</td>\n",
       "      <td>2014.000000</td>\n",
       "      <td>148000.000000</td>\n",
       "      <td>8.00000</td>\n",
       "      <td>3.000000</td>\n",
       "    </tr>\n",
       "    <tr>\n",
       "      <th>max</th>\n",
       "      <td>375000.000000</td>\n",
       "      <td>2019.000000</td>\n",
       "      <td>990000.000000</td>\n",
       "      <td>12.00000</td>\n",
       "      <td>5.000000</td>\n",
       "    </tr>\n",
       "  </tbody>\n",
       "</table>\n",
       "</div>"
      ],
      "text/plain": [
       "               price    model_year       odometer    cylinders     condition\n",
       "count   51484.000000  51484.000000   51484.000000  51484.00000  51484.000000\n",
       "mean    12114.333676   2009.791003  115520.255282      6.12438      2.637247\n",
       "std     10024.214376      6.101138   60567.728845      1.64530      0.712657\n",
       "min         1.000000   1908.000000       0.000000      3.00000      0.000000\n",
       "25%      5000.000000   2007.000000   77000.000000      4.00000      2.000000\n",
       "50%      9000.000000   2011.000000  115161.000000      6.00000      3.000000\n",
       "75%     16799.250000   2014.000000  148000.000000      8.00000      3.000000\n",
       "max    375000.000000   2019.000000  990000.000000     12.00000      5.000000"
      ]
     },
     "execution_count": 68,
     "metadata": {},
     "output_type": "execute_result"
    }
   ],
   "source": [
    "new_data.describe()"
   ]
  },
  {
   "cell_type": "code",
   "execution_count": 69,
   "metadata": {},
   "outputs": [
    {
     "data": {
      "text/plain": [
       "1996.5"
      ]
     },
     "execution_count": 69,
     "metadata": {},
     "output_type": "execute_result"
    }
   ],
   "source": [
    "# Determinamos los límites inferiores para valores atípicos\n",
    "#quito los inferiores en model_year\n",
    "Q1_model_year = data['model_year'].quantile(0.25)\n",
    "Q3_model_year = data['model_year'].quantile(0.75)\n",
    "IQR_model_year = Q3_model_year - Q1_model_year\n",
    "IQR_model_year\n",
    "limite_inferior=Q1_model_year-1.5*IQR_model_year\n",
    "limite_inferior"
   ]
  },
  {
   "cell_type": "code",
   "execution_count": 70,
   "metadata": {},
   "outputs": [
    {
     "data": {
      "text/plain": [
       "254500.0"
      ]
     },
     "execution_count": 70,
     "metadata": {},
     "output_type": "execute_result"
    }
   ],
   "source": [
    "# Determinamos los límites superiores para valores atípicos\n",
    "#quito los altos en odometer\n",
    "Q1_odometer = data['odometer'].quantile(0.25)\n",
    "Q3_odometer = data['odometer'].quantile(0.75)\n",
    "IQR_odometer = Q3_odometer - Q1_odometer\n",
    "IQR_odometer\n",
    "limite_superior=Q3_odometer+1.5*IQR_odometer\n",
    "limite_superior"
   ]
  },
  {
   "cell_type": "markdown",
   "metadata": {},
   "source": [
    "Se identificaron los valores atípicos en los parámetros 'model_yaer' y 'odometer'. Los valores atípicos para 'model_year' son los valores menores a 1996.5, mientras que para 'odometer' son los valores mayores a 282500."
   ]
  },
  {
   "cell_type": "code",
   "execution_count": 71,
   "metadata": {},
   "outputs": [],
   "source": [
    "# Almacenamos los datos sin valores atípicos en un DataFrame separado\n",
    "data=data.query('model_year>@limite_inferior & odometer<@limite_superior')"
   ]
  },
  {
   "cell_type": "markdown",
   "metadata": {},
   "source": [
    "## Estudiar parámetros principales sin valores atípicos"
   ]
  },
  {
   "cell_type": "code",
   "execution_count": 72,
   "metadata": {},
   "outputs": [
    {
     "data": {
      "text/html": [
       "<div>\n",
       "<style scoped>\n",
       "    .dataframe tbody tr th:only-of-type {\n",
       "        vertical-align: middle;\n",
       "    }\n",
       "\n",
       "    .dataframe tbody tr th {\n",
       "        vertical-align: top;\n",
       "    }\n",
       "\n",
       "    .dataframe thead th {\n",
       "        text-align: right;\n",
       "    }\n",
       "</style>\n",
       "<table border=\"1\" class=\"dataframe\">\n",
       "  <thead>\n",
       "    <tr style=\"text-align: right;\">\n",
       "      <th></th>\n",
       "      <th>price</th>\n",
       "      <th>model_year</th>\n",
       "      <th>condition</th>\n",
       "      <th>cylinders</th>\n",
       "      <th>odometer</th>\n",
       "      <th>days_listed</th>\n",
       "      <th>year_posted</th>\n",
       "      <th>mean_odometer</th>\n",
       "    </tr>\n",
       "  </thead>\n",
       "  <tbody>\n",
       "    <tr>\n",
       "      <th>count</th>\n",
       "      <td>49400.000000</td>\n",
       "      <td>49400.000000</td>\n",
       "      <td>49400.000000</td>\n",
       "      <td>49400.000000</td>\n",
       "      <td>49400.000000</td>\n",
       "      <td>49400.000000</td>\n",
       "      <td>49400.000000</td>\n",
       "      <td>49400.000000</td>\n",
       "    </tr>\n",
       "    <tr>\n",
       "      <th>mean</th>\n",
       "      <td>12330.067895</td>\n",
       "      <td>2010.406194</td>\n",
       "      <td>2.657328</td>\n",
       "      <td>6.090881</td>\n",
       "      <td>111730.932857</td>\n",
       "      <td>39.540789</td>\n",
       "      <td>2018.307490</td>\n",
       "      <td>15505.586925</td>\n",
       "    </tr>\n",
       "    <tr>\n",
       "      <th>std</th>\n",
       "      <td>10060.302827</td>\n",
       "      <td>4.916430</td>\n",
       "      <td>0.702738</td>\n",
       "      <td>1.644391</td>\n",
       "      <td>53736.474607</td>\n",
       "      <td>28.197117</td>\n",
       "      <td>0.461459</td>\n",
       "      <td>11659.748376</td>\n",
       "    </tr>\n",
       "    <tr>\n",
       "      <th>min</th>\n",
       "      <td>1.000000</td>\n",
       "      <td>1997.000000</td>\n",
       "      <td>0.000000</td>\n",
       "      <td>3.000000</td>\n",
       "      <td>0.000000</td>\n",
       "      <td>0.000000</td>\n",
       "      <td>2018.000000</td>\n",
       "      <td>0.000000</td>\n",
       "    </tr>\n",
       "    <tr>\n",
       "      <th>25%</th>\n",
       "      <td>5300.000000</td>\n",
       "      <td>2007.000000</td>\n",
       "      <td>2.000000</td>\n",
       "      <td>4.000000</td>\n",
       "      <td>76431.000000</td>\n",
       "      <td>19.000000</td>\n",
       "      <td>2018.000000</td>\n",
       "      <td>9583.725966</td>\n",
       "    </tr>\n",
       "    <tr>\n",
       "      <th>50%</th>\n",
       "      <td>9500.000000</td>\n",
       "      <td>2011.000000</td>\n",
       "      <td>3.000000</td>\n",
       "      <td>6.000000</td>\n",
       "      <td>113419.000000</td>\n",
       "      <td>33.000000</td>\n",
       "      <td>2018.000000</td>\n",
       "      <td>13192.312500</td>\n",
       "    </tr>\n",
       "    <tr>\n",
       "      <th>75%</th>\n",
       "      <td>16990.000000</td>\n",
       "      <td>2014.000000</td>\n",
       "      <td>3.000000</td>\n",
       "      <td>8.000000</td>\n",
       "      <td>144403.250000</td>\n",
       "      <td>53.000000</td>\n",
       "      <td>2019.000000</td>\n",
       "      <td>18152.873267</td>\n",
       "    </tr>\n",
       "    <tr>\n",
       "      <th>max</th>\n",
       "      <td>375000.000000</td>\n",
       "      <td>2019.000000</td>\n",
       "      <td>5.000000</td>\n",
       "      <td>12.000000</td>\n",
       "      <td>254344.000000</td>\n",
       "      <td>271.000000</td>\n",
       "      <td>2019.000000</td>\n",
       "      <td>195700.000000</td>\n",
       "    </tr>\n",
       "  </tbody>\n",
       "</table>\n",
       "</div>"
      ],
      "text/plain": [
       "               price    model_year     condition     cylinders       odometer  \\\n",
       "count   49400.000000  49400.000000  49400.000000  49400.000000   49400.000000   \n",
       "mean    12330.067895   2010.406194      2.657328      6.090881  111730.932857   \n",
       "std     10060.302827      4.916430      0.702738      1.644391   53736.474607   \n",
       "min         1.000000   1997.000000      0.000000      3.000000       0.000000   \n",
       "25%      5300.000000   2007.000000      2.000000      4.000000   76431.000000   \n",
       "50%      9500.000000   2011.000000      3.000000      6.000000  113419.000000   \n",
       "75%     16990.000000   2014.000000      3.000000      8.000000  144403.250000   \n",
       "max    375000.000000   2019.000000      5.000000     12.000000  254344.000000   \n",
       "\n",
       "        days_listed   year_posted  mean_odometer  \n",
       "count  49400.000000  49400.000000   49400.000000  \n",
       "mean      39.540789   2018.307490   15505.586925  \n",
       "std       28.197117      0.461459   11659.748376  \n",
       "min        0.000000   2018.000000       0.000000  \n",
       "25%       19.000000   2018.000000    9583.725966  \n",
       "50%       33.000000   2018.000000   13192.312500  \n",
       "75%       53.000000   2019.000000   18152.873267  \n",
       "max      271.000000   2019.000000  195700.000000  "
      ]
     },
     "execution_count": 72,
     "metadata": {},
     "output_type": "execute_result"
    }
   ],
   "source": [
    "data.describe()"
   ]
  },
  {
   "cell_type": "markdown",
   "metadata": {},
   "source": [
    "Comparando el parámetro 'model_year' con valores atípicos y sin ellos."
   ]
  },
  {
   "cell_type": "code",
   "execution_count": 73,
   "metadata": {},
   "outputs": [
    {
     "data": {
      "text/plain": [
       "<AxesSubplot:>"
      ]
     },
     "execution_count": 73,
     "metadata": {},
     "output_type": "execute_result"
    },
    {
     "data": {
      "image/png": "[encoded data removed]",
      "text/plain": [
       "<Figure size 432x288 with 1 Axes>"
      ]
     },
     "metadata": {
      "needs_background": "light"
     },
     "output_type": "display_data"
    }
   ],
   "source": [
    "new_data['model_year'].hist(bins=30,range=(1960,2020)) #con valores atípicos"
   ]
  },
  {
   "cell_type": "code",
   "execution_count": 74,
   "metadata": {},
   "outputs": [
    {
     "data": {
      "text/plain": [
       "<AxesSubplot:>"
      ]
     },
     "execution_count": 74,
     "metadata": {},
     "output_type": "execute_result"
    },
    {
     "data": {
      "image/png": "[encoded data removed]",
      "text/plain": [
       "<Figure size 432x288 with 1 Axes>"
      ]
     },
     "metadata": {
      "needs_background": "light"
     },
     "output_type": "display_data"
    }
   ],
   "source": [
    "data['model_year'].hist(bins=30,range=(1960,2020)) #sin valores atípicos"
   ]
  },
  {
   "cell_type": "markdown",
   "metadata": {},
   "source": [
    "En el histograma se aprecia que se la cantidad de valores inferiores atípicos en la columna 'model_year' que han sido eliminados no influyen en los datos restantes."
   ]
  },
  {
   "cell_type": "markdown",
   "metadata": {},
   "source": [
    "Comparando el parámetro 'odometer' con valores atípicos y sin ellos."
   ]
  },
  {
   "cell_type": "code",
   "execution_count": 75,
   "metadata": {},
   "outputs": [
    {
     "data": {
      "text/plain": [
       "<AxesSubplot:>"
      ]
     },
     "execution_count": 75,
     "metadata": {},
     "output_type": "execute_result"
    },
    {
     "data": {
      "image/png": "[encoded data removed]",
      "text/plain": [
       "<Figure size 432x288 with 1 Axes>"
      ]
     },
     "metadata": {
      "needs_background": "light"
     },
     "output_type": "display_data"
    }
   ],
   "source": [
    "new_data['odometer'].hist(bins=30,range=(0,250000)) #con valores atípicos\n"
   ]
  },
  {
   "cell_type": "code",
   "execution_count": 76,
   "metadata": {},
   "outputs": [
    {
     "data": {
      "text/plain": [
       "<AxesSubplot:>"
      ]
     },
     "execution_count": 76,
     "metadata": {},
     "output_type": "execute_result"
    },
    {
     "data": {
      "image/png": "[encoded data removed]",
      "text/plain": [
       "<Figure size 432x288 with 1 Axes>"
      ]
     },
     "metadata": {
      "needs_background": "light"
     },
     "output_type": "display_data"
    }
   ],
   "source": [
    "data['odometer'].hist(bins=30,range=(0,250000)) #sin valores atípicos"
   ]
  },
  {
   "cell_type": "markdown",
   "metadata": {},
   "source": [
    "En el histograma se aprecia que se la cantidad de valores superiores atípicos en la columna 'odometer' que han sido eliminados no influyen en los datos restantes. "
   ]
  },
  {
   "cell_type": "markdown",
   "metadata": {},
   "source": [
    "## Periodo de colocación de los anuncios\n"
   ]
  },
  {
   "cell_type": "code",
   "execution_count": 77,
   "metadata": {},
   "outputs": [
    {
     "data": {
      "text/plain": [
       "count    49400.000000\n",
       "mean        39.540789\n",
       "std         28.197117\n",
       "min          0.000000\n",
       "25%         19.000000\n",
       "50%         33.000000\n",
       "75%         53.000000\n",
       "max        271.000000\n",
       "Name: days_listed, dtype: float64"
      ]
     },
     "execution_count": 77,
     "metadata": {},
     "output_type": "execute_result"
    }
   ],
   "source": [
    "data['days_listed'].describe()"
   ]
  },
  {
   "cell_type": "markdown",
   "metadata": {},
   "source": [
    "En promedio, los anuncios fueron publicados durante 39 días en promedio, siendo el mínimo 0 días y el máximo 271 días. Este último fue anormalmente largo comparándolo con el tercer cuartil."
   ]
  },
  {
   "cell_type": "markdown",
   "metadata": {},
   "source": [
    "## Precio promedio por cada tipo de vehículo"
   ]
  },
  {
   "cell_type": "code",
   "execution_count": 78,
   "metadata": {},
   "outputs": [
    {
     "data": {
      "text/plain": [
       "<AxesSubplot:xlabel='type'>"
      ]
     },
     "execution_count": 78,
     "metadata": {},
     "output_type": "execute_result"
    },
    {
     "data": {
      "image/png": "[encoded data removed]",
      "text/plain": [
       "<Figure size 432x288 with 1 Axes>"
      ]
     },
     "metadata": {
      "needs_background": "light"
     },
     "output_type": "display_data"
    }
   ],
   "source": [
    "data.pivot_table(index='type',values='price',aggfunc='count').sort_values(by=['price'],ascending=False).plot(kind='bar')"
   ]
  },
  {
   "cell_type": "code",
   "execution_count": 79,
   "metadata": {},
   "outputs": [
    {
     "data": {
      "text/plain": [
       "<AxesSubplot:xlabel='type'>"
      ]
     },
     "execution_count": 79,
     "metadata": {},
     "output_type": "execute_result"
    },
    {
     "data": {
      "image/png": "[encoded data removed]",
      "text/plain": [
       "<Figure size 432x288 with 1 Axes>"
      ]
     },
     "metadata": {
      "needs_background": "light"
     },
     "output_type": "display_data"
    }
   ],
   "source": [
    "data.pivot_table(index='type',values='price').sort_values(by=['price'],ascending=False).plot(kind='bar')"
   ]
  },
  {
   "cell_type": "markdown",
   "metadata": {},
   "source": [
    "Los tipos de vehículos más caros son bus y truck; sin embargo, los tipos de vehículos que poseen mayor cantidad de anuncios son SUV y sedan."
   ]
  },
  {
   "cell_type": "markdown",
   "metadata": {},
   "source": [
    "## Factores de precio"
   ]
  },
  {
   "cell_type": "markdown",
   "metadata": {},
   "source": [
    "Se tomaron los valores de 'model_year', 'odometer', 'condition', 'transmission' y 'paint_color' para el estudio de correlación con el precio. Se trazaron gráficos de caja para las variables categóricas, mientras que se realizaron gráficos de dispersión para 'transmission' y 'paint_color'."
   ]
  },
  {
   "cell_type": "code",
   "execution_count": 80,
   "metadata": {},
   "outputs": [
    {
     "name": "stdout",
     "output_type": "stream",
     "text": [
      "<class 'pandas.core.frame.DataFrame'>\n",
      "Int64Index: 49400 entries, 0 to 51483\n",
      "Data columns (total 6 columns):\n",
      " #   Column        Non-Null Count  Dtype  \n",
      "---  ------        --------------  -----  \n",
      " 0   price         49400 non-null  float64\n",
      " 1   odometer      49400 non-null  float64\n",
      " 2   model_year    49400 non-null  int64  \n",
      " 3   condition     49400 non-null  int64  \n",
      " 4   transmission  49400 non-null  object \n",
      " 5   paint_color   49400 non-null  object \n",
      "dtypes: float64(2), int64(2), object(2)\n",
      "memory usage: 2.6+ MB\n"
     ]
    }
   ],
   "source": [
    "new_data_2=data[['price','odometer','model_year','condition','transmission','paint_color']]\n",
    "new_data_2.info()"
   ]
  },
  {
   "cell_type": "code",
   "execution_count": 81,
   "metadata": {},
   "outputs": [
    {
     "data": {
      "text/plain": [
       "array([[<AxesSubplot:xlabel='price', ylabel='price'>,\n",
       "        <AxesSubplot:xlabel='odometer', ylabel='price'>,\n",
       "        <AxesSubplot:xlabel='model_year', ylabel='price'>,\n",
       "        <AxesSubplot:xlabel='condition', ylabel='price'>],\n",
       "       [<AxesSubplot:xlabel='price', ylabel='odometer'>,\n",
       "        <AxesSubplot:xlabel='odometer', ylabel='odometer'>,\n",
       "        <AxesSubplot:xlabel='model_year', ylabel='odometer'>,\n",
       "        <AxesSubplot:xlabel='condition', ylabel='odometer'>],\n",
       "       [<AxesSubplot:xlabel='price', ylabel='model_year'>,\n",
       "        <AxesSubplot:xlabel='odometer', ylabel='model_year'>,\n",
       "        <AxesSubplot:xlabel='model_year', ylabel='model_year'>,\n",
       "        <AxesSubplot:xlabel='condition', ylabel='model_year'>],\n",
       "       [<AxesSubplot:xlabel='price', ylabel='condition'>,\n",
       "        <AxesSubplot:xlabel='odometer', ylabel='condition'>,\n",
       "        <AxesSubplot:xlabel='model_year', ylabel='condition'>,\n",
       "        <AxesSubplot:xlabel='condition', ylabel='condition'>]],\n",
       "      dtype=object)"
      ]
     },
     "execution_count": 81,
     "metadata": {},
     "output_type": "execute_result"
    },
    {
     "data": {
      "image/png": "[encoded data removed]",
      "text/plain": [
       "<Figure size 648x648 with 16 Axes>"
      ]
     },
     "metadata": {
      "needs_background": "light"
     },
     "output_type": "display_data"
    }
   ],
   "source": [
    "pd.plotting.scatter_matrix(new_data_2, figsize=(9, 9)) "
   ]
  },
  {
   "cell_type": "code",
   "execution_count": 82,
   "metadata": {},
   "outputs": [
    {
     "data": {
      "text/plain": [
       "transmission\n",
       "automatic    45215\n",
       "manual        2405\n",
       "other         1780\n",
       "Name: price, dtype: int64"
      ]
     },
     "execution_count": 82,
     "metadata": {},
     "output_type": "execute_result"
    }
   ],
   "source": [
    "new_data_2.groupby('transmission')['price'].count()"
   ]
  },
  {
   "cell_type": "code",
   "execution_count": 83,
   "metadata": {},
   "outputs": [
    {
     "data": {
      "text/plain": [
       "paint_color\n",
       "black      7440\n",
       "blue       4264\n",
       "brown      1141\n",
       "custom     1100\n",
       "green      1254\n",
       "grey       4942\n",
       "orange      217\n",
       "purple       84\n",
       "red        4138\n",
       "silver     6110\n",
       "unknown    8888\n",
       "white      9591\n",
       "yellow      231\n",
       "Name: price, dtype: int64"
      ]
     },
     "execution_count": 83,
     "metadata": {},
     "output_type": "execute_result"
    }
   ],
   "source": [
    "new_data_2.groupby('paint_color')['price'].count()"
   ]
  },
  {
   "cell_type": "markdown",
   "metadata": {},
   "source": [
    "Todas las variables categóricas en 'transmission' y 'paint_color' presentan más de 50 anuncios."
   ]
  },
  {
   "cell_type": "code",
   "execution_count": 84,
   "metadata": {},
   "outputs": [
    {
     "data": {
      "text/plain": [
       "<AxesSubplot:title={'center':'price'}, xlabel='paint_color'>"
      ]
     },
     "execution_count": 84,
     "metadata": {},
     "output_type": "execute_result"
    },
    {
     "data": {
      "image/png": "[encoded data removed]",
      "text/plain": [
       "<Figure size 432x288 with 1 Axes>"
      ]
     },
     "metadata": {
      "needs_background": "light"
     },
     "output_type": "display_data"
    },
    {
     "data": {
      "image/png": "[encoded data removed]",
      "text/plain": [
       "<Figure size 432x288 with 1 Axes>"
      ]
     },
     "metadata": {
      "needs_background": "light"
     },
     "output_type": "display_data"
    }
   ],
   "source": [
    "new_data_2.boxplot('price','transmission',grid=True)\n",
    "new_data_2.boxplot('price','paint_color',grid=True)"
   ]
  },
  {
   "cell_type": "markdown",
   "metadata": {},
   "source": [
    "Hay más vehículos de transmisión automática que manuales y otras opciones; sin embargo, la media y mediana de los precios de otros tipos de transmisión es superior a los de transmisión automática o manual.\n",
    "los colores tienen una distribución pareja exceptuando los colores naranja, púrpura y amarillo.\n"
   ]
  },
  {
   "cell_type": "markdown",
   "metadata": {},
   "source": [
    "## Conclusión general\n",
    "\n",
    "1. Hay una correlación positiva entre el precio y el estado del auto vendido.\n",
    "2. No hay una correlación entre el color del autio y el precio; sin embargo, los autos de color blanco presentan un promedio mayor al resto de colores.\n",
    "3. Los autos de transmisión automática tuvieron una media y mediana ligeramente superior que los autos de transmisión manual. Existe una relación directa entre el nivel de ingresos y el pago de préstamos a tiempo. Mientras el nivel de ingresos aumenta, hay menor probabilidad de endeudamiento.\n",
    "4. Los valores ausentes fueron reemplazados por la mediana del parámetro en función del modelo del auto, exceptuando los valores nulos en la columna 'is_4wd', los cuales fueron reemplazados por 0, debido a que el valor 1 indica si el vehículo tiene tracción en cuatro ruedas.\n",
    "5. No se encontró información duplicada. \n",
    "6. Se eliminaron las filas con  valores atípicos en las columnas de 'model_year' y 'odometer'.\n",
    "7. Se encontró una correlación negativa entre el millaje y el precio de los autos.\n",
    "8. Se encontró una correlación positiva entre el año del modelo y el precio de los autos."
   ]
  }
 ],
 "metadata": {
  "ExecuteTimeLog": [
   {
    "duration": 828,
    "start_time": "2021-11-16T09:21:11.304Z"
   },
   {
    "duration": 893,
    "start_time": "2021-11-16T09:21:17.728Z"
   },
   {
    "duration": 1150,
    "start_time": "2021-11-16T09:21:29.568Z"
   },
   {
    "duration": 3,
    "start_time": "2021-11-16T09:24:14.495Z"
   },
   {
    "duration": 120,
    "start_time": "2021-11-16T09:24:46.630Z"
   },
   {
    "duration": 3,
    "start_time": "2021-11-16T09:28:27.882Z"
   },
   {
    "duration": 4,
    "start_time": "2021-11-16T09:29:54.281Z"
   },
   {
    "duration": 3,
    "start_time": "2021-11-16T09:30:45.936Z"
   },
   {
    "duration": 4,
    "start_time": "2021-11-16T09:31:06.300Z"
   },
   {
    "duration": 113,
    "start_time": "2021-11-16T09:31:37.208Z"
   },
   {
    "duration": 143,
    "start_time": "2021-11-16T09:31:48.656Z"
   },
   {
    "duration": 98,
    "start_time": "2021-11-16T09:31:55.678Z"
   },
   {
    "duration": 3,
    "start_time": "2021-11-16T09:32:08.535Z"
   },
   {
    "duration": 111,
    "start_time": "2021-11-16T09:32:10.120Z"
   },
   {
    "duration": 3,
    "start_time": "2021-11-16T09:32:15.732Z"
   },
   {
    "duration": 4,
    "start_time": "2021-11-16T09:32:29.423Z"
   },
   {
    "duration": 3,
    "start_time": "2021-11-16T10:03:03.074Z"
   },
   {
    "duration": 3,
    "start_time": "2021-11-16T10:10:01.288Z"
   },
   {
    "duration": 3,
    "start_time": "2021-11-16T10:10:46.923Z"
   },
   {
    "duration": 121,
    "start_time": "2021-11-16T10:37:46.494Z"
   },
   {
    "duration": 125,
    "start_time": "2021-11-16T10:38:20.632Z"
   },
   {
    "duration": 112,
    "start_time": "2021-11-16T10:46:53.001Z"
   },
   {
    "duration": 110,
    "start_time": "2021-11-16T10:48:25.775Z"
   },
   {
    "duration": 3,
    "start_time": "2021-11-16T10:50:18.720Z"
   },
   {
    "duration": 4,
    "start_time": "2021-11-16T10:50:37.649Z"
   },
   {
    "duration": 2,
    "start_time": "2021-11-16T10:50:51.884Z"
   },
   {
    "duration": 3,
    "start_time": "2021-11-16T10:51:56.237Z"
   },
   {
    "duration": 101,
    "start_time": "2021-11-16T10:53:13.791Z"
   },
   {
    "duration": 3,
    "start_time": "2021-11-16T10:55:59.186Z"
   },
   {
    "duration": 3,
    "start_time": "2021-11-16T10:56:10.751Z"
   },
   {
    "duration": 3,
    "start_time": "2021-11-16T10:56:49.038Z"
   },
   {
    "duration": 3,
    "start_time": "2021-11-16T10:56:49.174Z"
   },
   {
    "duration": 4,
    "start_time": "2021-11-16T10:56:49.414Z"
   },
   {
    "duration": 3,
    "start_time": "2021-11-16T10:56:49.680Z"
   },
   {
    "duration": 3,
    "start_time": "2021-11-16T10:56:50.370Z"
   },
   {
    "duration": 114,
    "start_time": "2021-11-16T10:59:34.518Z"
   },
   {
    "duration": 3,
    "start_time": "2021-11-16T11:01:41.201Z"
   },
   {
    "duration": 116,
    "start_time": "2021-11-16T11:01:48.754Z"
   },
   {
    "duration": 3,
    "start_time": "2021-11-16T11:02:16.685Z"
   },
   {
    "duration": 3,
    "start_time": "2021-11-16T11:02:19.479Z"
   },
   {
    "duration": 3,
    "start_time": "2021-11-16T11:02:47.067Z"
   },
   {
    "duration": 3,
    "start_time": "2021-11-16T11:02:49.353Z"
   },
   {
    "duration": 3,
    "start_time": "2021-11-16T11:03:07.835Z"
   },
   {
    "duration": 3,
    "start_time": "2021-11-16T11:03:07.953Z"
   },
   {
    "duration": 112,
    "start_time": "2021-11-16T11:07:52.072Z"
   },
   {
    "duration": 187,
    "start_time": "2021-11-16T11:09:23.468Z"
   },
   {
    "duration": 4,
    "start_time": "2021-11-16T11:10:01.455Z"
   },
   {
    "duration": 3,
    "start_time": "2021-11-16T11:10:05.069Z"
   },
   {
    "duration": 4,
    "start_time": "2021-11-16T11:10:13.376Z"
   },
   {
    "duration": 3,
    "start_time": "2021-11-16T11:10:14.434Z"
   },
   {
    "duration": 3,
    "start_time": "2021-11-16T11:10:22.853Z"
   },
   {
    "duration": 4,
    "start_time": "2021-11-16T11:27:29.279Z"
   },
   {
    "duration": 4,
    "start_time": "2021-11-16T11:29:08.919Z"
   },
   {
    "duration": 118,
    "start_time": "2021-11-16T11:29:46.703Z"
   },
   {
    "duration": 437,
    "start_time": "2021-11-16T11:36:02.181Z"
   },
   {
    "duration": 157,
    "start_time": "2021-11-16T11:36:14.388Z"
   },
   {
    "duration": 207,
    "start_time": "2021-11-16T11:47:15.898Z"
   },
   {
    "duration": 3,
    "start_time": "2021-11-16T11:53:52.092Z"
   },
   {
    "duration": 3,
    "start_time": "2021-11-16T11:53:52.236Z"
   },
   {
    "duration": 3,
    "start_time": "2021-11-16T11:59:12.005Z"
   },
   {
    "duration": 112,
    "start_time": "2021-11-16T12:00:33.446Z"
   },
   {
    "duration": 3,
    "start_time": "2021-11-16T12:02:14.453Z"
   },
   {
    "duration": 3,
    "start_time": "2021-11-16T12:02:39.512Z"
   },
   {
    "duration": 106,
    "start_time": "2021-11-16T12:03:03.460Z"
   }
  ],
  "kernelspec": {
   "display_name": "Python 3 (ipykernel)",
   "language": "python",
   "name": "python3"
  },
  "language_info": {
   "codemirror_mode": {
    "name": "ipython",
    "version": 3
   },
   "file_extension": ".py",
   "mimetype": "text/x-python",
   "name": "python",
   "nbconvert_exporter": "python",
   "pygments_lexer": "ipython3",
   "version": "3.9.5"
  },
  "toc": {
   "base_numbering": 1,
   "nav_menu": {},
   "number_sections": true,
   "sideBar": true,
   "skip_h1_title": false,
   "title_cell": "Table of Contents",
   "title_sidebar": "Contents",
   "toc_cell": false,
   "toc_position": {
    "height": "calc(100% - 180px)",
    "left": "10px",
    "top": "150px",
    "width": "255.382px"
   },
   "toc_section_display": true,
   "toc_window_display": true
  }
 },
 "nbformat": 4,
 "nbformat_minor": 2
}
